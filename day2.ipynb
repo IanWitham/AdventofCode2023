{
 "cells": [
  {
   "cell_type": "markdown",
   "metadata": {},
   "source": [
    "## Advent of Code 2023 Day 2 🟥 🟩 🟦 \n",
    "\n",
    "This is my first time trying out the [FParsec](https://github.com/stephan-tolksdorf/fparsec) library.\n",
    "\n",
    "For me the most painful/tedious part of Advent of Code is parsing the input data with a collection of `String.Split`, `String.Trim` and various array operations.\n",
    "\n",
    "FParsec is far nicer to work with and I think I'll be using it from now on."
   ]
  },
  {
   "cell_type": "code",
   "execution_count": 36,
   "metadata": {
    "dotnet_interactive": {
     "language": "fsharp"
    },
    "polyglot_notebook": {
     "kernelName": "fsharp"
    },
    "vscode": {
     "languageId": "polyglot-notebook"
    }
   },
   "outputs": [
    {
     "data": {
      "text/html": [
       "<div><div></div><div></div><div><strong>Installed Packages</strong><ul><li><span>FParsec, 1.1.1</span></li></ul></div></div>"
      ]
     },
     "metadata": {},
     "output_type": "display_data"
    }
   ],
   "source": [
    "#r \"nuget:FParsec\"\n",
    "\n",
    "open FParsec\n",
    "\n",
    "let loadFile fname = System.IO.File.ReadAllLines(fname)\n",
    "\n",
    "let sample = \"day2.sample.txt\"\n",
    "let data = \"day2.data.txt\""
   ]
  },
  {
   "cell_type": "markdown",
   "metadata": {},
   "source": [
    "`parseRow` will return an `int * List<List<int * string>>`, representing `(gameId, [[(count, color)...] ... ])`, or throw an error if the data is bad. (In actual fact, as the data is most likely good, it would indicate that my parser is bad).\n",
    "\n",
    "The parser is built up from smaller parser combinators, which each parsing one thing, or combining other parsers in some way. E.g.:\n",
    "\n",
    "- a string\n",
    "- an int\n",
    "- a tuple made from running other parsers in sequence\n",
    "- a list parser, made from specifying a seperator and the inner parser\n",
    "- etc. (there's far more that I haven't needed or learned about yet)\n",
    "\n",
    "This method of atomically building up a parser from primitives seems to work really well."
   ]
  },
  {
   "cell_type": "code",
   "execution_count": 37,
   "metadata": {
    "dotnet_interactive": {
     "language": "fsharp"
    },
    "polyglot_notebook": {
     "kernelName": "fsharp"
    },
    "vscode": {
     "languageId": "polyglot-notebook"
    }
   },
   "outputs": [
    {
     "name": "stdout",
     "output_type": "stream",
     "text": [
      "Test game parser: (5, [[(6, red); (1, blue); (3, green)]; [(2, blue); (1, red); (2, green)]])\n"
     ]
    }
   ],
   "source": [
    "let str = pstring\n",
    "let gameNumberParser = str \"Game \" >>. pint32 .>> str \": \" // parse the Game ID\n",
    "let colorNameParser = str \"red\" <|> str \"blue\" <|> str \"green\" // parse one of strings red|blue|green. Anything else will be a parse failure.\n",
    "let colorCountParser = tuple2 (pint32 .>> str \" \") colorNameParser // a 2-tuple parser combinator of a count parser and a color parser\n",
    "let colorCountListParser = sepBy colorCountParser (str \", \") // apply the colorCountParser to a comma seperated list. This is one \"handful\"\n",
    "let drawListParser = sepBy colorCountListParser (str \"; \") // apply the above parser to a semicolon list. These are the handfuls for one \"game\"\n",
    "let gameParser = tuple2 gameNumberParser drawListParser // combine the game number parser, and the \"handfuls\" parser into a 2-tuple parser.\n",
    "\n",
    "let parseRow (s: string) =\n",
    "    match run gameParser s with\n",
    "    | Success (result, _, _) -> result\n",
    "    | Failure (message, _, _) -> failwith message\n",
    "\n",
    "let testRow = \"Game 5: 6 red, 1 blue, 3 green; 2 blue, 1 red, 2 green\"\n",
    "let parsedRow = parseRow testRow\n",
    "\n",
    "printfn $\"Test game parser: {parsedRow}\""
   ]
  },
  {
   "cell_type": "markdown",
   "metadata": {},
   "source": [
    "Here's an example of the parser failing. It's pretty neat actually..."
   ]
  },
  {
   "cell_type": "code",
   "execution_count": 38,
   "metadata": {
    "dotnet_interactive": {
     "language": "fsharp"
    },
    "polyglot_notebook": {
     "kernelName": "fsharp"
    },
    "vscode": {
     "languageId": "polyglot-notebook"
    }
   },
   "outputs": [
    {
     "name": "stdout",
     "output_type": "stream",
     "text": [
      "Test game parser on bad data: Error in Ln: 1 Col: 43\n",
      "Game 5: 6 red, 1 blue, 3 green; 2 blue, 1 pink, 2 green\n",
      "                                          ^\n",
      "Expecting: 'blue', 'green' or 'red'\n",
      "\n"
     ]
    }
   ],
   "source": [
    "let nicerParseRow (s: string) =\n",
    "    match run gameParser s with\n",
    "    | Success (result, _, _) -> failwith \"This wasn't meant to succeed...\"\n",
    "    | Failure (message, _, _) -> message\n",
    "\n",
    "let invalidTestRow = \"Game 5: 6 red, 1 blue, 3 green; 2 blue, 1 pink, 2 green\"\n",
    "let parsedRowErrorMessage = nicerParseRow invalidTestRow\n",
    "\n",
    "display \"NOTE: the following error was intentional\"\n",
    "printfn $\"Test game parser on bad data: {parsedRowErrorMessage}\""
   ]
  },
  {
   "cell_type": "code",
   "execution_count": 39,
   "metadata": {
    "dotnet_interactive": {
     "language": "fsharp"
    },
    "polyglot_notebook": {
     "kernelName": "fsharp"
    },
    "vscode": {
     "languageId": "polyglot-notebook"
    }
   },
   "outputs": [
    {
     "name": "stdout",
     "output_type": "stream",
     "text": [
      "CubeCount [|56; 0; 3|]\n"
     ]
    }
   ],
   "source": [
    "type CubeCount = private CubeCount of int array\n",
    "\n",
    "module CubeCount =\n",
    "    let create r g b = CubeCount [| r ; g ; b |]\n",
    "\n",
    "    let value cubeCount = \n",
    "        match cubeCount with CubeCount arr -> arr\n",
    "\n",
    "    let couldBeDrawnFrom bagCount drawCount =\n",
    "        (value bagCount, value drawCount)\n",
    "        ||> Array.forall2 (>=)\n",
    "\n",
    "    let private countForColorFromTuples color xs =\n",
    "        xs\n",
    "        |> List.tryFind (fun (_, c) -> c = color)\n",
    "        |> Option.map fst\n",
    "        |> Option.defaultValue 0\n",
    "\n",
    "    let fromTupleList (xs : (int * string) list) =\n",
    "        CubeCount [|\n",
    "            xs |> countForColorFromTuples \"red\"\n",
    "            xs |> countForColorFromTuples \"green\"\n",
    "            xs |> countForColorFromTuples \"blue\"\n",
    "            |]\n",
    "\n",
    "    let maximalArray<'a> =\n",
    "        Array.map2 max\n",
    "\n",
    "    let maximalDraw (draws: CubeCount list) =\n",
    "        draws\n",
    "        |> List.reduce (fun (CubeCount a) (CubeCount b) ->\n",
    "            CubeCount (maximalArray a b))\n",
    "\n",
    "    let product cubeCount =\n",
    "        match cubeCount with\n",
    "        | CubeCount [| r; g; b |] -> r * g * b\n",
    "\n",
    "\n",
    "printfn $\"\"\"{CubeCount.fromTupleList [ (3, \"blue\"); (56, \"red\") ]}\"\"\"\n",
    "\n"
   ]
  },
  {
   "cell_type": "code",
   "execution_count": 40,
   "metadata": {
    "dotnet_interactive": {
     "language": "fsharp"
    },
    "polyglot_notebook": {
     "kernelName": "fsharp"
    },
    "vscode": {
     "languageId": "polyglot-notebook"
    }
   },
   "outputs": [
    {
     "data": {
      "text/plain": [
       "Part One Answer:"
      ]
     },
     "metadata": {},
     "output_type": "display_data"
    },
    {
     "data": {
      "text/html": [
       "<div class=\"dni-plaintext\"><pre>2285</pre></div><style>\r\n",
       ".dni-code-hint {\r\n",
       "    font-style: italic;\r\n",
       "    overflow: hidden;\r\n",
       "    white-space: nowrap;\r\n",
       "}\r\n",
       ".dni-treeview {\r\n",
       "    white-space: nowrap;\r\n",
       "}\r\n",
       ".dni-treeview td {\r\n",
       "    vertical-align: top;\r\n",
       "    text-align: start;\r\n",
       "}\r\n",
       "details.dni-treeview {\r\n",
       "    padding-left: 1em;\r\n",
       "}\r\n",
       "table td {\r\n",
       "    text-align: start;\r\n",
       "}\r\n",
       "table tr { \r\n",
       "    vertical-align: top; \r\n",
       "    margin: 0em 0px;\r\n",
       "}\r\n",
       "table tr td pre \r\n",
       "{ \r\n",
       "    vertical-align: top !important; \r\n",
       "    margin: 0em 0px !important;\r\n",
       "} \r\n",
       "table th {\r\n",
       "    text-align: start;\r\n",
       "}\r\n",
       "</style>"
      ]
     },
     "metadata": {},
     "output_type": "display_data"
    }
   ],
   "source": [
    "let bagConfig = CubeCount.create 12 13 14\n",
    "\n",
    "display \"Part One Answer:\"\n",
    "\n",
    "loadFile data\n",
    "|> Array.map parseRow\n",
    "|> Array.map (fun (g, c) -> (g, c |> List.map CubeCount.fromTupleList))\n",
    "|> Array.filter (fun (g, draws) ->\n",
    "    draws |> List.forall (fun draw -> draw |> CubeCount.couldBeDrawnFrom bagConfig)) \n",
    "|> Array.sumBy fst\n",
    "\n"
   ]
  },
  {
   "cell_type": "code",
   "execution_count": 41,
   "metadata": {
    "dotnet_interactive": {
     "language": "fsharp"
    },
    "polyglot_notebook": {
     "kernelName": "fsharp"
    },
    "vscode": {
     "languageId": "polyglot-notebook"
    }
   },
   "outputs": [
    {
     "data": {
      "text/plain": [
       "Part Two Answer:"
      ]
     },
     "metadata": {},
     "output_type": "display_data"
    },
    {
     "data": {
      "text/html": [
       "<div class=\"dni-plaintext\"><pre>77021</pre></div><style>\r\n",
       ".dni-code-hint {\r\n",
       "    font-style: italic;\r\n",
       "    overflow: hidden;\r\n",
       "    white-space: nowrap;\r\n",
       "}\r\n",
       ".dni-treeview {\r\n",
       "    white-space: nowrap;\r\n",
       "}\r\n",
       ".dni-treeview td {\r\n",
       "    vertical-align: top;\r\n",
       "    text-align: start;\r\n",
       "}\r\n",
       "details.dni-treeview {\r\n",
       "    padding-left: 1em;\r\n",
       "}\r\n",
       "table td {\r\n",
       "    text-align: start;\r\n",
       "}\r\n",
       "table tr { \r\n",
       "    vertical-align: top; \r\n",
       "    margin: 0em 0px;\r\n",
       "}\r\n",
       "table tr td pre \r\n",
       "{ \r\n",
       "    vertical-align: top !important; \r\n",
       "    margin: 0em 0px !important;\r\n",
       "} \r\n",
       "table th {\r\n",
       "    text-align: start;\r\n",
       "}\r\n",
       "</style>"
      ]
     },
     "metadata": {},
     "output_type": "display_data"
    }
   ],
   "source": [
    "display \"Part Two Answer:\"\n",
    "\n",
    "loadFile data\n",
    "|> Array.map (parseRow >> snd >> List.map CubeCount.fromTupleList )\n",
    "|> Array.map CubeCount.maximalDraw\n",
    "|> Array.map CubeCount.product\n",
    "|> Array.sum\n",
    "\n",
    "\n",
    "\n"
   ]
  }
 ],
 "metadata": {
  "kernelspec": {
   "display_name": ".NET (C#)",
   "language": "C#",
   "name": ".net-csharp"
  },
  "language_info": {
   "name": "csharp"
  },
  "polyglot_notebook": {
   "kernelInfo": {
    "defaultKernelName": "csharp",
    "items": [
     {
      "aliases": [],
      "name": "csharp"
     }
    ]
   }
  }
 },
 "nbformat": 4,
 "nbformat_minor": 2
}
