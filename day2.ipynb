{
 "cells": [
  {
   "cell_type": "markdown",
   "metadata": {},
   "source": [
    "## Advent of Code 2023 day 2 🟥 🟩 🟦 \n",
    "\n",
    "This is my first time trying out the [FParsec](https://github.com/stephan-tolksdorf/fparsec) library.\n",
    "\n",
    "For me the most painful/tedious part of Advent of Code is parsing the input data with a collection of `String.Split`, `String.Trim` and various array operations.\n",
    "\n",
    "FParsec is far nicer to work with and I think I'll be using it from now on."
   ]
  },
  {
   "cell_type": "code",
   "execution_count": 114,
   "metadata": {
    "dotnet_interactive": {
     "language": "fsharp"
    },
    "polyglot_notebook": {
     "kernelName": "fsharp"
    },
    "vscode": {
     "languageId": "polyglot-notebook"
    }
   },
   "outputs": [
    {
     "data": {
      "text/html": [
       "<div><div></div><div></div><div><strong>Installed Packages</strong><ul><li><span>FParsec, 1.1.1</span></li></ul></div></div>"
      ]
     },
     "metadata": {},
     "output_type": "display_data"
    }
   ],
   "source": [
    "#r \"nuget:FParsec\"\n",
    "\n",
    "open FParsec\n",
    "\n",
    "let loadFile fname = System.IO.File.ReadAllLines(fname)\n",
    "\n",
    "let sample = \"day2.sample.txt\"\n",
    "let data = \"day2.data.txt\""
   ]
  },
  {
   "cell_type": "code",
   "execution_count": 115,
   "metadata": {
    "dotnet_interactive": {
     "language": "fsharp"
    },
    "polyglot_notebook": {
     "kernelName": "fsharp"
    },
    "vscode": {
     "languageId": "polyglot-notebook"
    }
   },
   "outputs": [
    {
     "name": "stdout",
     "output_type": "stream",
     "text": [
      "Test game parser: (5, [[(6, red); (1, blue); (3, green)]; [(2, blue); (1, red); (2, green)]])\n"
     ]
    }
   ],
   "source": [
    "let str = pstring\n",
    "let gameNumberParser = str \"Game \" >>. pint32 .>> str \": \" // \"Game (n): \"\"\n",
    "let colorNameParser = str \"red\" <|> str \"blue\" <|> str \"green\" // \"red|blue|green\"\n",
    "let colorCountParser = tuple2 (pint32 .>> str \" \") colorNameParser // \"(n) red|blue|green\"\n",
    "let colorCountListParser = sepBy colorCountParser (str \", \")\n",
    "let drawListParser = sepBy colorCountListParser (str \"; \")\n",
    "let gameParser = tuple2 gameNumberParser drawListParser\n",
    "\n",
    "let parseRow (s: string) =\n",
    "    match run gameParser s with\n",
    "    | Success (result, _, _) -> result\n",
    "    | Failure (message, _, _) -> failwith message\n",
    "\n",
    "// how do I write a function that explitly takes the \n",
    "\n",
    "let testRow = \"Game 5: 6 red, 1 blue, 3 green; 2 blue, 1 red, 2 green\"\n",
    "let parsedRow = parseRow testRow\n",
    "printfn $\"Test game parser: {parsedRow}\""
   ]
  },
  {
   "cell_type": "code",
   "execution_count": 116,
   "metadata": {
    "dotnet_interactive": {
     "language": "fsharp"
    },
    "polyglot_notebook": {
     "kernelName": "fsharp"
    },
    "vscode": {
     "languageId": "polyglot-notebook"
    }
   },
   "outputs": [
    {
     "name": "stdout",
     "output_type": "stream",
     "text": [
      "CubeCount [|56; 0; 3|]\n"
     ]
    }
   ],
   "source": [
    "type CubeCount = private CubeCount of int array\n",
    "\n",
    "module CubeCount =\n",
    "    let create r g b = CubeCount [| r ; g ; b |]\n",
    "\n",
    "    let value cubeCount = \n",
    "        match cubeCount with CubeCount arr -> arr\n",
    "\n",
    "    let couldBeDrawnFrom bagCount drawCount =\n",
    "        (value bagCount, value drawCount)\n",
    "        ||> Array.forall2 (>=)\n",
    "\n",
    "    let private countForColorFromTuples color xs =\n",
    "        xs\n",
    "        |> List.tryFind (fun (_, c) -> c = color)\n",
    "        |> Option.map fst\n",
    "        |> Option.defaultValue 0\n",
    "\n",
    "    let fromTupleList (xs : (int * string) list) =\n",
    "        CubeCount [|\n",
    "            xs |> countForColorFromTuples \"red\"\n",
    "            xs |> countForColorFromTuples \"green\"\n",
    "            xs |> countForColorFromTuples \"blue\"\n",
    "            |]\n",
    "\n",
    "    let maximalArray<'a> =\n",
    "        Array.map2 max\n",
    "\n",
    "    let maximalDraw (draws: CubeCount list) =\n",
    "        draws\n",
    "        |> List.reduce (fun (CubeCount a) (CubeCount b) ->\n",
    "            CubeCount (maximalArray a b))\n",
    "\n",
    "    let product cubeCount =\n",
    "        match cubeCount with\n",
    "        | CubeCount [| r; g; b |] -> r * g * b\n",
    "\n",
    "\n",
    "printfn $\"\"\"{CubeCount.fromTupleList [ (3, \"blue\"); (56, \"red\") ]}\"\"\"\n",
    "\n"
   ]
  },
  {
   "cell_type": "code",
   "execution_count": 117,
   "metadata": {
    "dotnet_interactive": {
     "language": "fsharp"
    },
    "polyglot_notebook": {
     "kernelName": "fsharp"
    },
    "vscode": {
     "languageId": "polyglot-notebook"
    }
   },
   "outputs": [
    {
     "data": {
      "text/plain": [
       "Part One Answer:"
      ]
     },
     "metadata": {},
     "output_type": "display_data"
    },
    {
     "data": {
      "text/html": [
       "<div class=\"dni-plaintext\"><pre>2285</pre></div><style>\r\n",
       ".dni-code-hint {\r\n",
       "    font-style: italic;\r\n",
       "    overflow: hidden;\r\n",
       "    white-space: nowrap;\r\n",
       "}\r\n",
       ".dni-treeview {\r\n",
       "    white-space: nowrap;\r\n",
       "}\r\n",
       ".dni-treeview td {\r\n",
       "    vertical-align: top;\r\n",
       "    text-align: start;\r\n",
       "}\r\n",
       "details.dni-treeview {\r\n",
       "    padding-left: 1em;\r\n",
       "}\r\n",
       "table td {\r\n",
       "    text-align: start;\r\n",
       "}\r\n",
       "table tr { \r\n",
       "    vertical-align: top; \r\n",
       "    margin: 0em 0px;\r\n",
       "}\r\n",
       "table tr td pre \r\n",
       "{ \r\n",
       "    vertical-align: top !important; \r\n",
       "    margin: 0em 0px !important;\r\n",
       "} \r\n",
       "table th {\r\n",
       "    text-align: start;\r\n",
       "}\r\n",
       "</style>"
      ]
     },
     "metadata": {},
     "output_type": "display_data"
    }
   ],
   "source": [
    "let bagConfig = CubeCount.create 12 13 14\n",
    "\n",
    "display \"Part One Answer:\"\n",
    "\n",
    "loadFile data\n",
    "|> Array.map parseRow\n",
    "|> Array.map (fun (g, c) -> (g, c |> List.map CubeCount.fromTupleList))\n",
    "|> Array.filter (fun (g, draws) ->\n",
    "    draws |> List.forall (fun draw -> draw |> CubeCount.couldBeDrawnFrom bagConfig)) \n",
    "|> Array.sumBy fst\n",
    "\n"
   ]
  },
  {
   "cell_type": "code",
   "execution_count": 118,
   "metadata": {
    "dotnet_interactive": {
     "language": "fsharp"
    },
    "polyglot_notebook": {
     "kernelName": "fsharp"
    },
    "vscode": {
     "languageId": "polyglot-notebook"
    }
   },
   "outputs": [
    {
     "data": {
      "text/plain": [
       "Part Two Answer:"
      ]
     },
     "metadata": {},
     "output_type": "display_data"
    },
    {
     "data": {
      "text/html": [
       "<div class=\"dni-plaintext\"><pre>77021</pre></div><style>\r\n",
       ".dni-code-hint {\r\n",
       "    font-style: italic;\r\n",
       "    overflow: hidden;\r\n",
       "    white-space: nowrap;\r\n",
       "}\r\n",
       ".dni-treeview {\r\n",
       "    white-space: nowrap;\r\n",
       "}\r\n",
       ".dni-treeview td {\r\n",
       "    vertical-align: top;\r\n",
       "    text-align: start;\r\n",
       "}\r\n",
       "details.dni-treeview {\r\n",
       "    padding-left: 1em;\r\n",
       "}\r\n",
       "table td {\r\n",
       "    text-align: start;\r\n",
       "}\r\n",
       "table tr { \r\n",
       "    vertical-align: top; \r\n",
       "    margin: 0em 0px;\r\n",
       "}\r\n",
       "table tr td pre \r\n",
       "{ \r\n",
       "    vertical-align: top !important; \r\n",
       "    margin: 0em 0px !important;\r\n",
       "} \r\n",
       "table th {\r\n",
       "    text-align: start;\r\n",
       "}\r\n",
       "</style>"
      ]
     },
     "metadata": {},
     "output_type": "display_data"
    }
   ],
   "source": [
    "display \"Part Two Answer:\"\n",
    "\n",
    "loadFile data\n",
    "|> Array.map (parseRow >> snd >> List.map CubeCount.fromTupleList )\n",
    "|> Array.map CubeCount.maximalDraw\n",
    "|> Array.map CubeCount.product\n",
    "|> Array.sum\n",
    "\n",
    "\n",
    "\n"
   ]
  }
 ],
 "metadata": {
  "language_info": {
   "name": "csharp"
  }
 },
 "nbformat": 4,
 "nbformat_minor": 2
}
