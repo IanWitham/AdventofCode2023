{
 "cells": [
  {
   "cell_type": "markdown",
   "metadata": {},
   "source": [
    "## Advent of Code 2023 Day 3 ⚙️ 🚡 ⚙️\n",
    "\n",
    "When I saw the input data I was concerned that the new tool in my kit, FParsec would be useless.\n",
    "\n",
    "As it happens, there is the `getPosition` parser, which can insert the current row and column of the input stream into the parsed result. Very handy, and just what I needed for locating all of these gears and whatnot!"
   ]
  },
  {
   "cell_type": "code",
   "execution_count": 76,
   "metadata": {
    "dotnet_interactive": {
     "language": "fsharp"
    },
    "polyglot_notebook": {
     "kernelName": "fsharp"
    },
    "vscode": {
     "languageId": "polyglot-notebook"
    }
   },
   "outputs": [
    {
     "data": {
      "text/html": [
       "<div><div></div><div></div><div><strong>Installed Packages</strong><ul><li><span>FParsec, 1.1.1</span></li></ul></div></div>"
      ]
     },
     "metadata": {},
     "output_type": "display_data"
    }
   ],
   "source": [
    "#r \"nuget:FParsec\"\n",
    "open FParsec\n",
    "\n",
    "let loadFile fname = System.IO.File.ReadAllText(fname)\n",
    "\n",
    "let sample = \"day3.sample.txt\"\n",
    "let data = \"day3.data.txt\"\n",
    "\n",
    "let str = pstring"
   ]
  },
  {
   "cell_type": "code",
   "execution_count": 77,
   "metadata": {
    "dotnet_interactive": {
     "language": "fsharp"
    },
    "polyglot_notebook": {
     "kernelName": "fsharp"
    },
    "vscode": {
     "languageId": "polyglot-notebook"
    }
   },
   "outputs": [],
   "source": [
    "let numPositionParser = tuple3 getPosition pint32 getPosition\n",
    "let skipNonDigit = skipManySatisfy (Char.IsDigit >> not)\n",
    "let enginePartParser = skipNonDigit >>. numPositionParser .>> skipNonDigit\n",
    "let fileParser = many enginePartParser\n",
    "\n",
    "let parseEngineParts (s: string) =\n",
    "    match run fileParser s with\n",
    "    | Success (result, _, _) -> result\n",
    "    | Failure (message, _, _) -> failwith message\n"
   ]
  },
  {
   "cell_type": "code",
   "execution_count": 78,
   "metadata": {
    "dotnet_interactive": {
     "language": "fsharp"
    },
    "polyglot_notebook": {
     "kernelName": "fsharp"
    },
    "vscode": {
     "languageId": "polyglot-notebook"
    }
   },
   "outputs": [],
   "source": [
    "type Number = {\n",
    "    Number : int\n",
    "    Row : int\n",
    "    Col : int\n",
    "    Length : int\n",
    "}\n",
    "\n",
    "\n",
    "module Number =\n",
    "    let fromParsedData (startPos : Position, num : int, endPos : Position) : Number =\n",
    "        {\n",
    "            Number = num\n",
    "            Row = int startPos.Line - 1\n",
    "            Col = int startPos.Column - 1\n",
    "            Length = int endPos.Column - int startPos.Column\n",
    "        }\n",
    "\n",
    "    let neighborPositions (dataRows : string array) (n : Number) =\n",
    "        let w = dataRows[0].Length\n",
    "        let h = dataRows.Length\n",
    "        [\n",
    "            // left neighbor\n",
    "            (n.Col - 1, n.Row)\n",
    "            // right neighbor\n",
    "            (n.Col + n.Length, n.Row)\n",
    "            // rowAbove\n",
    "            yield! seq {(n.Col - 1)..(n.Col+n.Length)} |> Seq.map (fun c -> (c, n.Row-1))\n",
    "            // rowBelow\n",
    "            yield! seq {(n.Col - 1)..(n.Col+n.Length)} |> Seq.map (fun c -> (c, n.Row+1))\n",
    "        ]\n",
    "        |> List.filter (fun (col, row) ->\n",
    "            row >= 0 && row + 1 <= w && col >= 0 && col + 1 <= h\n",
    "            )\n",
    "\n",
    "    let isEnginePart (dataRows : string array) (n : Number) =\n",
    "        neighborPositions dataRows n\n",
    "        |> List.map (fun (col, row) -> dataRows[row][col])\n",
    "        |> List.exists ((<>) '.')\n",
    "\n",
    "    let neighboringGear (dataRows : string array) (n : Number) =\n",
    "        neighborPositions dataRows n\n",
    "        |> List.tryFind (fun (col, row) -> dataRows[row][col] = '*')\n",
    "\n"
   ]
  },
  {
   "cell_type": "code",
   "execution_count": 79,
   "metadata": {
    "dotnet_interactive": {
     "language": "fsharp"
    },
    "polyglot_notebook": {
     "kernelName": "fsharp"
    },
    "vscode": {
     "languageId": "polyglot-notebook"
    }
   },
   "outputs": [
    {
     "data": {
      "text/plain": [
       "Part 1 Sample answer"
      ]
     },
     "metadata": {},
     "output_type": "display_data"
    },
    {
     "data": {
      "text/html": [
       "<div class=\"dni-plaintext\"><pre>4361</pre></div><style>\r\n",
       ".dni-code-hint {\r\n",
       "    font-style: italic;\r\n",
       "    overflow: hidden;\r\n",
       "    white-space: nowrap;\r\n",
       "}\r\n",
       ".dni-treeview {\r\n",
       "    white-space: nowrap;\r\n",
       "}\r\n",
       ".dni-treeview td {\r\n",
       "    vertical-align: top;\r\n",
       "    text-align: start;\r\n",
       "}\r\n",
       "details.dni-treeview {\r\n",
       "    padding-left: 1em;\r\n",
       "}\r\n",
       "table td {\r\n",
       "    text-align: start;\r\n",
       "}\r\n",
       "table tr { \r\n",
       "    vertical-align: top; \r\n",
       "    margin: 0em 0px;\r\n",
       "}\r\n",
       "table tr td pre \r\n",
       "{ \r\n",
       "    vertical-align: top !important; \r\n",
       "    margin: 0em 0px !important;\r\n",
       "} \r\n",
       "table th {\r\n",
       "    text-align: start;\r\n",
       "}\r\n",
       "</style>"
      ]
     },
     "metadata": {},
     "output_type": "display_data"
    }
   ],
   "source": [
    "display \"Part 1 Sample answer\"\n",
    "\n",
    "let testData = loadFile(sample)\n",
    "let parseResult = parseEngineParts testData\n",
    "let numbers =\n",
    "    parseResult\n",
    "    |> List.map Number.fromParsedData\n",
    "let dataRows = testData.Split('\\n')\n",
    "\n",
    "numbers\n",
    "|> List.filter (Number.isEnginePart dataRows)\n",
    "|> List.sumBy (fun x -> x.Number)\n"
   ]
  },
  {
   "cell_type": "code",
   "execution_count": 80,
   "metadata": {
    "dotnet_interactive": {
     "language": "fsharp"
    },
    "polyglot_notebook": {
     "kernelName": "fsharp"
    },
    "vscode": {
     "languageId": "polyglot-notebook"
    }
   },
   "outputs": [
    {
     "data": {
      "text/plain": [
       "Part 1 Real answer"
      ]
     },
     "metadata": {},
     "output_type": "display_data"
    },
    {
     "data": {
      "text/html": [
       "<div class=\"dni-plaintext\"><pre>553079</pre></div><style>\r\n",
       ".dni-code-hint {\r\n",
       "    font-style: italic;\r\n",
       "    overflow: hidden;\r\n",
       "    white-space: nowrap;\r\n",
       "}\r\n",
       ".dni-treeview {\r\n",
       "    white-space: nowrap;\r\n",
       "}\r\n",
       ".dni-treeview td {\r\n",
       "    vertical-align: top;\r\n",
       "    text-align: start;\r\n",
       "}\r\n",
       "details.dni-treeview {\r\n",
       "    padding-left: 1em;\r\n",
       "}\r\n",
       "table td {\r\n",
       "    text-align: start;\r\n",
       "}\r\n",
       "table tr { \r\n",
       "    vertical-align: top; \r\n",
       "    margin: 0em 0px;\r\n",
       "}\r\n",
       "table tr td pre \r\n",
       "{ \r\n",
       "    vertical-align: top !important; \r\n",
       "    margin: 0em 0px !important;\r\n",
       "} \r\n",
       "table th {\r\n",
       "    text-align: start;\r\n",
       "}\r\n",
       "</style>"
      ]
     },
     "metadata": {},
     "output_type": "display_data"
    }
   ],
   "source": [
    "display \"Part 1 Real answer\"\n",
    "\n",
    "let testData = loadFile(data)\n",
    "let parseResult = parseEngineParts testData\n",
    "let numbers =\n",
    "    parseResult\n",
    "    |> List.map Number.fromParsedData\n",
    "let dataRows = testData.Split('\\n')\n",
    "\n",
    "numbers\n",
    "|> List.filter (Number.isEnginePart dataRows)\n",
    "|> List.sumBy (fun x -> x.Number)"
   ]
  },
  {
   "cell_type": "code",
   "execution_count": 99,
   "metadata": {
    "dotnet_interactive": {
     "language": "fsharp"
    },
    "polyglot_notebook": {
     "kernelName": "fsharp"
    },
    "vscode": {
     "languageId": "polyglot-notebook"
    }
   },
   "outputs": [
    {
     "data": {
      "text/plain": [
       "Part 2 answer"
      ]
     },
     "metadata": {},
     "output_type": "display_data"
    },
    {
     "data": {
      "text/html": [
       "<div class=\"dni-plaintext\"><pre>84363105</pre></div><style>\r\n",
       ".dni-code-hint {\r\n",
       "    font-style: italic;\r\n",
       "    overflow: hidden;\r\n",
       "    white-space: nowrap;\r\n",
       "}\r\n",
       ".dni-treeview {\r\n",
       "    white-space: nowrap;\r\n",
       "}\r\n",
       ".dni-treeview td {\r\n",
       "    vertical-align: top;\r\n",
       "    text-align: start;\r\n",
       "}\r\n",
       "details.dni-treeview {\r\n",
       "    padding-left: 1em;\r\n",
       "}\r\n",
       "table td {\r\n",
       "    text-align: start;\r\n",
       "}\r\n",
       "table tr { \r\n",
       "    vertical-align: top; \r\n",
       "    margin: 0em 0px;\r\n",
       "}\r\n",
       "table tr td pre \r\n",
       "{ \r\n",
       "    vertical-align: top !important; \r\n",
       "    margin: 0em 0px !important;\r\n",
       "} \r\n",
       "table th {\r\n",
       "    text-align: start;\r\n",
       "}\r\n",
       "</style>"
      ]
     },
     "metadata": {},
     "output_type": "display_data"
    }
   ],
   "source": [
    "display \"Part 2 answer\"\n",
    "\n",
    "let realData = loadFile(data)\n",
    "let parseResult = parseEngineParts realData\n",
    "let numbers =\n",
    "    parseResult\n",
    "    |> List.map Number.fromParsedData\n",
    "let dataRows = realData.Split('\\n')\n",
    "\n",
    "\n",
    "numbers\n",
    "|> List.map (fun n -> (n, Number.neighboringGear dataRows n))\n",
    "|> List.filter (snd >> Option.isSome)\n",
    "|> List.groupBy snd\n",
    "|> List.filter (fun x -> (snd x) |> List.length = 2)\n",
    "|> List.map (fun x ->\n",
    "    (snd x) |> List.map fst |> List.map (fun y -> y.Number) |> List.reduce (*))\n",
    "|> List.sum\n",
    "\n"
   ]
  }
 ],
 "metadata": {
  "language_info": {
   "name": "csharp"
  }
 },
 "nbformat": 4,
 "nbformat_minor": 2
}
