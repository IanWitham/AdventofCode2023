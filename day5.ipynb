{
 "cells": [
  {
   "cell_type": "code",
   "execution_count": 178,
   "metadata": {
    "dotnet_interactive": {
     "language": "fsharp"
    },
    "polyglot_notebook": {
     "kernelName": "fsharp"
    }
   },
   "outputs": [
    {
     "data": {
      "text/html": [
       "<div><div></div><div></div><div><strong>Installed Packages</strong><ul><li><span>FParsec, 1.1.1</span></li></ul></div></div>"
      ]
     },
     "metadata": {},
     "output_type": "display_data"
    }
   ],
   "source": [
    "#r \"nuget:FParsec\"\n",
    "open FParsec\n",
    "\n",
    "let loadFile fname = System.IO.File.ReadAllText(fname)\n",
    "\n",
    "let sample = \"day5.sample.txt\"\n",
    "let data = \"day5.data.txt\"\n",
    "\n"
   ]
  },
  {
   "cell_type": "code",
   "execution_count": 179,
   "metadata": {
    "dotnet_interactive": {
     "language": "fsharp"
    },
    "polyglot_notebook": {
     "kernelName": "fsharp"
    }
   },
   "outputs": [
    {
     "name": "stdout",
     "output_type": "stream",
     "text": [
      "{ Seeds = [79L; 14L; 55L; 13L]\n",
      "  SeedToSoilMap = [(50L, 98L, 2L); (52L, 50L, 48L)]\n",
      "  SoilToFertilizerMap = [(0L, 15L, 37L); (37L, 52L, 2L); (39L, 0L, 15L)]\n",
      "  FertilizerToWaterMap =\n",
      "   [(49L, 53L, 8L); (0L, 11L, 42L); (42L, 0L, 7L); (57L, 7L, 4L)]\n",
      "  WaterToLightMap = [(88L, 18L, 7L); (18L, 25L, 70L)]\n",
      "  LightToTemperatureMap = [(45L, 77L, 23L); (81L, 45L, 19L); (68L, 64L, 13L)]\n",
      "  TemperatureToHumidityMap = [(0L, 69L, 1L); (1L, 0L, 69L)]\n",
      "  HumidityToLocationMap = [(60L, 56L, 37L); (56L, 93L, 4L)] }\n"
     ]
    }
   ],
   "source": [
    "// Parser... I may have over complicated this...\n",
    "\n",
    "let str = pstring\n",
    "let ws = spaces\n",
    "type UserState = unit\n",
    "type Parser<'t> = Parser<'t, UserState>\n",
    "\n",
    "\n",
    "type parsedData = {\n",
    "    Seeds : int64 list\n",
    "    SeedToSoilMap : (int64 * int64 * int64) list\n",
    "    SoilToFertilizerMap : (int64 * int64 * int64) list\n",
    "    FertilizerToWaterMap : (int64 * int64 * int64) list\n",
    "    WaterToLightMap : (int64 * int64 * int64) list\n",
    "    LightToTemperatureMap : (int64 * int64 * int64) list\n",
    "    TemperatureToHumidityMap : (int64 * int64 * int64) list\n",
    "    HumidityToLocationMap : (int64 * int64 * int64) list\n",
    "}\n",
    "\n",
    "let pRecord p1 p2 p3 p4 p5 p6 p7 p8 =\n",
    "    pipe5 p1 p2 p3 p4 (tuple4 p5 p6 p7 p8) (fun p1 p2 p3 p4 (p5, p6, p7, p8) ->\n",
    "        {\n",
    "            Seeds=p1\n",
    "            SeedToSoilMap=p2\n",
    "            SoilToFertilizerMap=p3\n",
    "            FertilizerToWaterMap=p4\n",
    "            WaterToLightMap=p5\n",
    "            LightToTemperatureMap=p6\n",
    "            TemperatureToHumidityMap=p7\n",
    "            HumidityToLocationMap=p8\n",
    "        }\n",
    "        )\n",
    "\n",
    "let seedsParser = str \"seeds:\" >>. ws >>. manyTill ( pint64 .>> ws ) (str \"seed-to-soil map:\")\n",
    "let mapRangeParser : Parser<_> =\n",
    "    tuple3 (pint64 .>> ws) (pint64 .>> ws) (pint64 .>> ws)\n",
    "let inputParser : Parser<_> =\n",
    "    pRecord\n",
    "        (seedsParser .>> ws)\n",
    "        (manyTill mapRangeParser (str \"soil-to-fertilizer map:\") .>> ws)\n",
    "        (manyTill mapRangeParser (str \"fertilizer-to-water map:\") .>> ws)\n",
    "        (manyTill mapRangeParser (str \"water-to-light map:\") .>> ws)\n",
    "        (manyTill mapRangeParser (str \"light-to-temperature map:\") .>> ws)\n",
    "        (manyTill mapRangeParser (str \"temperature-to-humidity map:\") .>> ws)\n",
    "        (manyTill mapRangeParser (str \"humidity-to-location map:\") .>> ws)\n",
    "        (many mapRangeParser)\n",
    "\n",
    "let parseInput (s: string) =\n",
    "    match run inputParser s with\n",
    "    | Success (result, _, _) -> result\n",
    "    | Failure (message, _, _) -> failwith message\n",
    "\n",
    "// test parser on sample\n",
    "parseInput (loadFile sample) |> printfn \"%A\"\n",
    "\n",
    "\n"
   ]
  },
  {
   "cell_type": "code",
   "execution_count": 180,
   "metadata": {
    "dotnet_interactive": {
     "language": "fsharp"
    },
    "polyglot_notebook": {
     "kernelName": "fsharp"
    }
   },
   "outputs": [
    {
     "data": {
      "text/html": [
       "<div class=\"dni-plaintext\"><pre>3</pre></div><style>\r\n",
       ".dni-code-hint {\r\n",
       "    font-style: italic;\r\n",
       "    overflow: hidden;\r\n",
       "    white-space: nowrap;\r\n",
       "}\r\n",
       ".dni-treeview {\r\n",
       "    white-space: nowrap;\r\n",
       "}\r\n",
       ".dni-treeview td {\r\n",
       "    vertical-align: top;\r\n",
       "    text-align: start;\r\n",
       "}\r\n",
       "details.dni-treeview {\r\n",
       "    padding-left: 1em;\r\n",
       "}\r\n",
       "table td {\r\n",
       "    text-align: start;\r\n",
       "}\r\n",
       "table tr { \r\n",
       "    vertical-align: top; \r\n",
       "    margin: 0em 0px;\r\n",
       "}\r\n",
       "table tr td pre \r\n",
       "{ \r\n",
       "    vertical-align: top !important; \r\n",
       "    margin: 0em 0px !important;\r\n",
       "} \r\n",
       "table th {\r\n",
       "    text-align: start;\r\n",
       "}\r\n",
       "</style>"
      ]
     },
     "metadata": {},
     "output_type": "display_data"
    }
   ],
   "source": [
    "// Range mapper inner logic\n",
    "\n",
    "type RangeDescription = {\n",
    "    fromStart : int\n",
    "    toStart : int\n",
    "    count : int\n",
    "    }\n",
    "\n",
    "type RangeMap = int64 -> int64\n",
    "\n",
    "module RangeMap = \n",
    "    let create (rds : (int64 * int64 * int64) list) : RangeMap =\n",
    "        fun inValue -> \n",
    "            rds\n",
    "            |> List.tryFind (fun (_, fromStart, count) ->\n",
    "                fromStart <= inValue\n",
    "                && inValue < fromStart + count\n",
    "            )\n",
    "            |> Option.map (fun (toStart, fromStart, _) ->\n",
    "                inValue + (toStart - fromStart)\n",
    "            )\n",
    "            |> Option.defaultValue inValue\n",
    "\n",
    "let testRangeDescriptions = [\n",
    "    (1L, 10L, 5L)\n",
    "    (40L, 30L, 10L)\n",
    "]\n",
    "\n",
    "let testMap = RangeMap.create testRangeDescriptions\n",
    "\n",
    "testMap 12\n"
   ]
  },
  {
   "cell_type": "code",
   "execution_count": 181,
   "metadata": {
    "dotnet_interactive": {
     "language": "fsharp"
    },
    "polyglot_notebook": {
     "kernelName": "fsharp"
    }
   },
   "outputs": [],
   "source": [
    "type Seed = Seed of int64\n",
    "\n",
    "type Soil = Soil of int64\n",
    "    \n",
    "type Fertilizer = Fertilizer of int64\n",
    "\n",
    "type Water = Water of int64\n",
    "\n",
    "type Light = Light of int64\n",
    "\n",
    "type Temperature = Temperature of int64\n",
    "\n",
    "type Humidity = Humidity of int64\n",
    "\n",
    "type Location = Location of int64\n",
    "\n",
    "type Mappers = {\n",
    "    SeedToSoil : Seed -> Soil\n",
    "    SoilToFertilizer : Soil -> Fertilizer\n",
    "    FertilizerToWater : Fertilizer -> Water\n",
    "    WaterToLight : Water -> Light\n",
    "    LightToTemperature : Light -> Temperature\n",
    "    TemperatureToHumidity : Temperature -> Humidity\n",
    "    HumidityToLocation : Humidity -> Location\n",
    "}\n",
    "\n",
    "module Mappers =\n",
    "\n",
    "    let private seedsToSoil rangeMap (Seed x) : Soil = \n",
    "        x |> rangeMap |> Soil\n",
    "\n",
    "    let private soilToFertilizer rangeMap (Soil x) : Fertilizer =\n",
    "        x |> rangeMap |> Fertilizer\n",
    "\n",
    "    let private fertilizerToWater rangeMap (Fertilizer x) : Water =\n",
    "        x |> rangeMap |> Water\n",
    "\n",
    "    let private waterToLight rangeMap (Water x) : Light =\n",
    "        x |> rangeMap |> Light\n",
    "\n",
    "    let private lightToTemperature rangeMap (Light x) : Temperature =\n",
    "        x |> rangeMap |> Temperature\n",
    "    \n",
    "    let private temperatureToHumidity rangeMap (Temperature x) : Humidity =\n",
    "        x |> rangeMap |> Humidity\n",
    "    \n",
    "    let private humidityToLocation rangeMap (Humidity x) : Location =\n",
    "        x |> rangeMap |> Location\n",
    "\n",
    "    let private tee x =\n",
    "        printfn \"%A\" x\n",
    "        x\n",
    "\n",
    "    let create parsedData : Mappers =\n",
    "        let pd = parsedData\n",
    "        let rm = RangeMap.create\n",
    "        {\n",
    "            SeedToSoil = pd.SeedToSoilMap |> rm |> seedsToSoil\n",
    "            SoilToFertilizer = pd.SoilToFertilizerMap |> rm |> soilToFertilizer\n",
    "            FertilizerToWater = pd.FertilizerToWaterMap |> rm |> fertilizerToWater\n",
    "            WaterToLight = pd.WaterToLightMap |> rm |> waterToLight\n",
    "            LightToTemperature = pd.LightToTemperatureMap |> rm |> lightToTemperature\n",
    "            TemperatureToHumidity = pd.TemperatureToHumidityMap |> rm |> temperatureToHumidity\n",
    "            HumidityToLocation = pd.HumidityToLocationMap |> rm |> humidityToLocation\n",
    "        }\n",
    "\n",
    "    let seedToLocation (mappers : Mappers) (seed : Seed) : Location = \n",
    "        seed //|> tee\n",
    "        |> mappers.SeedToSoil //|> tee\n",
    "        |> mappers.SoilToFertilizer //|> tee\n",
    "        |> mappers.FertilizerToWater //|> tee\n",
    "        |> mappers.WaterToLight //|> tee\n",
    "        |> mappers.LightToTemperature //|> tee\n",
    "        |> mappers.TemperatureToHumidity //|> tee\n",
    "        |> mappers.HumidityToLocation //|> tee\n",
    "        \n"
   ]
  },
  {
   "cell_type": "code",
   "execution_count": 182,
   "metadata": {
    "dotnet_interactive": {
     "language": "fsharp"
    },
    "polyglot_notebook": {
     "kernelName": "fsharp"
    }
   },
   "outputs": [
    {
     "data": {
      "text/plain": [
       "Part 1 Sample data result"
      ]
     },
     "metadata": {},
     "output_type": "display_data"
    },
    {
     "data": {
      "text/html": [
       "<details open=\"open\" class=\"dni-treeview\"><summary><span class=\"dni-code-hint\"><code>Location 35L</code></span></summary><div><table><thead><tr></tr></thead><tbody><tr><td>Item</td><td><div class=\"dni-plaintext\"><pre>35</pre></div></td></tr></tbody></table></div></details><style>\r\n",
       ".dni-code-hint {\r\n",
       "    font-style: italic;\r\n",
       "    overflow: hidden;\r\n",
       "    white-space: nowrap;\r\n",
       "}\r\n",
       ".dni-treeview {\r\n",
       "    white-space: nowrap;\r\n",
       "}\r\n",
       ".dni-treeview td {\r\n",
       "    vertical-align: top;\r\n",
       "    text-align: start;\r\n",
       "}\r\n",
       "details.dni-treeview {\r\n",
       "    padding-left: 1em;\r\n",
       "}\r\n",
       "table td {\r\n",
       "    text-align: start;\r\n",
       "}\r\n",
       "table tr { \r\n",
       "    vertical-align: top; \r\n",
       "    margin: 0em 0px;\r\n",
       "}\r\n",
       "table tr td pre \r\n",
       "{ \r\n",
       "    vertical-align: top !important; \r\n",
       "    margin: 0em 0px !important;\r\n",
       "} \r\n",
       "table th {\r\n",
       "    text-align: start;\r\n",
       "}\r\n",
       "</style>"
      ]
     },
     "metadata": {},
     "output_type": "display_data"
    }
   ],
   "source": [
    "// time to test the sample data\n",
    "\n",
    "let parsedData = loadFile sample |> parseInput\n",
    "let mappers = Mappers.create parsedData\n",
    "let seedToLocation = Mappers.seedToLocation mappers\n",
    "\n",
    "display \"Part 1 Sample data result\"\n",
    "parsedData.Seeds\n",
    "|> List.map (Seed >> seedToLocation)\n",
    "|> List.minBy (fun (Location x) -> x)\n"
   ]
  },
  {
   "cell_type": "code",
   "execution_count": 183,
   "metadata": {
    "dotnet_interactive": {
     "language": "fsharp"
    },
    "polyglot_notebook": {
     "kernelName": "fsharp"
    }
   },
   "outputs": [
    {
     "data": {
      "text/plain": [
       "Part 1 Real data result"
      ]
     },
     "metadata": {},
     "output_type": "display_data"
    },
    {
     "data": {
      "text/html": [
       "<details open=\"open\" class=\"dni-treeview\"><summary><span class=\"dni-code-hint\"><code>Location 331445006L</code></span></summary><div><table><thead><tr></tr></thead><tbody><tr><td>Item</td><td><div class=\"dni-plaintext\"><pre>331445006</pre></div></td></tr></tbody></table></div></details><style>\r\n",
       ".dni-code-hint {\r\n",
       "    font-style: italic;\r\n",
       "    overflow: hidden;\r\n",
       "    white-space: nowrap;\r\n",
       "}\r\n",
       ".dni-treeview {\r\n",
       "    white-space: nowrap;\r\n",
       "}\r\n",
       ".dni-treeview td {\r\n",
       "    vertical-align: top;\r\n",
       "    text-align: start;\r\n",
       "}\r\n",
       "details.dni-treeview {\r\n",
       "    padding-left: 1em;\r\n",
       "}\r\n",
       "table td {\r\n",
       "    text-align: start;\r\n",
       "}\r\n",
       "table tr { \r\n",
       "    vertical-align: top; \r\n",
       "    margin: 0em 0px;\r\n",
       "}\r\n",
       "table tr td pre \r\n",
       "{ \r\n",
       "    vertical-align: top !important; \r\n",
       "    margin: 0em 0px !important;\r\n",
       "} \r\n",
       "table th {\r\n",
       "    text-align: start;\r\n",
       "}\r\n",
       "</style>"
      ]
     },
     "metadata": {},
     "output_type": "display_data"
    }
   ],
   "source": [
    "// Holy Canoly this had better work\n",
    "\n",
    "let parsedData = loadFile data |> parseInput\n",
    "let mappers = Mappers.create parsedData\n",
    "let seedToLocation = Mappers.seedToLocation mappers\n",
    "\n",
    "display \"Part 1 Real data result\"\n",
    "parsedData.Seeds\n",
    "|> List.map (Seed >> seedToLocation)\n",
    "|> List.minBy (fun (Location x) -> x)"
   ]
  },
  {
   "cell_type": "code",
   "execution_count": 184,
   "metadata": {
    "dotnet_interactive": {
     "language": "fsharp"
    },
    "polyglot_notebook": {
     "kernelName": "fsharp"
    }
   },
   "outputs": [
    {
     "data": {
      "text/plain": [
       "Part 2 Sample data result"
      ]
     },
     "metadata": {},
     "output_type": "display_data"
    },
    {
     "data": {
      "text/html": [
       "<details open=\"open\" class=\"dni-treeview\"><summary><span class=\"dni-code-hint\"><code>Location 46L</code></span></summary><div><table><thead><tr></tr></thead><tbody><tr><td>Item</td><td><div class=\"dni-plaintext\"><pre>46</pre></div></td></tr></tbody></table></div></details><style>\r\n",
       ".dni-code-hint {\r\n",
       "    font-style: italic;\r\n",
       "    overflow: hidden;\r\n",
       "    white-space: nowrap;\r\n",
       "}\r\n",
       ".dni-treeview {\r\n",
       "    white-space: nowrap;\r\n",
       "}\r\n",
       ".dni-treeview td {\r\n",
       "    vertical-align: top;\r\n",
       "    text-align: start;\r\n",
       "}\r\n",
       "details.dni-treeview {\r\n",
       "    padding-left: 1em;\r\n",
       "}\r\n",
       "table td {\r\n",
       "    text-align: start;\r\n",
       "}\r\n",
       "table tr { \r\n",
       "    vertical-align: top; \r\n",
       "    margin: 0em 0px;\r\n",
       "}\r\n",
       "table tr td pre \r\n",
       "{ \r\n",
       "    vertical-align: top !important; \r\n",
       "    margin: 0em 0px !important;\r\n",
       "} \r\n",
       "table th {\r\n",
       "    text-align: start;\r\n",
       "}\r\n",
       "</style>"
      ]
     },
     "metadata": {},
     "output_type": "display_data"
    }
   ],
   "source": [
    "let parsedData = loadFile sample |> parseInput\n",
    "let mappers = Mappers.create parsedData\n",
    "let seedToLocation = Mappers.seedToLocation mappers\n",
    "\n",
    "let seedRanges = parsedData.Seeds |> List.chunkBySize 2\n",
    "let seeds : int64 seq = seq {\n",
    "        for seedRange in seedRanges do\n",
    "            match seedRange with\n",
    "            | [i; n] -> yield! {i..(i+n-1L)}\n",
    "            | _ -> yield! Seq.empty\n",
    "    }\n",
    "\n",
    "display \"Part 2 Sample data result\"\n",
    "seeds\n",
    "|> Seq.map (Seed >> seedToLocation)\n",
    "|> Seq.minBy (fun (Location x) -> x)"
   ]
  },
  {
   "cell_type": "code",
   "execution_count": 185,
   "metadata": {
    "dotnet_interactive": {
     "language": "fsharp"
    },
    "polyglot_notebook": {
     "kernelName": "fsharp"
    }
   },
   "outputs": [
    {
     "data": {
      "text/plain": [
       "Part 2 Real data result"
      ]
     },
     "metadata": {},
     "output_type": "display_data"
    },
    {
     "ename": "Error",
     "evalue": "Command cancelled.",
     "output_type": "error",
     "traceback": [
      "Command cancelled."
     ]
    }
   ],
   "source": [
    "// Part 2 brute force... I don't think it's gonna work\n",
    "\n",
    "// let parsedData = loadFile data |> parseInput\n",
    "// let mappers = Mappers.create parsedData\n",
    "// let seedToLocation = Mappers.seedToLocation mappers\n",
    "\n",
    "// let seedRanges = parsedData.Seeds |> List.chunkBySize 2\n",
    "// let seeds : int64 seq = seq {\n",
    "//         for seedRange in seedRanges do\n",
    "//             match seedRange with\n",
    "//             | [i; n] -> yield! {i..(i+n-1L)}\n",
    "//             | _ -> yield! Seq.empty\n",
    "//     }\n",
    "\n",
    "// display \"Part 2 Real data result\"\n",
    "// seeds\n",
    "// |> Seq.map (Seed >> seedToLocation)\n",
    "// |> Seq.minBy (fun (Location x) -> x)"
   ]
  }
 ],
 "metadata": {
  "kernelspec": {
   "display_name": ".NET (F#)",
   "language": "F#",
   "name": ".net-fsharp"
  },
  "language_info": {
   "name": "polyglot-notebook"
  },
  "polyglot_notebook": {
   "kernelInfo": {
    "defaultKernelName": "fsharp",
    "items": [
     {
      "aliases": [],
      "languageName": "fsharp",
      "name": "fsharp"
     }
    ]
   }
  }
 },
 "nbformat": 4,
 "nbformat_minor": 2
}
