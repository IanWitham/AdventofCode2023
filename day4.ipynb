{
 "cells": [
  {
   "cell_type": "markdown",
   "metadata": {},
   "source": [
    "## Advent of Code 2023 Day 4 🍒 🍒 🍒\n",
    "\n"
   ]
  },
  {
   "cell_type": "code",
   "execution_count": 147,
   "metadata": {
    "dotnet_interactive": {
     "language": "fsharp"
    },
    "polyglot_notebook": {
     "kernelName": "fsharp"
    },
    "vscode": {
     "languageId": "polyglot-notebook"
    }
   },
   "outputs": [
    {
     "data": {
      "text/html": [
       "<div><div></div><div></div><div><strong>Installed Packages</strong><ul><li><span>FParsec, 1.1.1</span></li></ul></div></div>"
      ]
     },
     "metadata": {},
     "output_type": "display_data"
    }
   ],
   "source": [
    "#r \"nuget:FParsec\"\n",
    "open FParsec\n",
    "\n",
    "let loadFile fname = System.IO.File.ReadAllLines(fname)\n",
    "\n",
    "let sample = \"day4.sample.txt\"\n",
    "let data = \"day4.data.txt\"\n",
    "\n",
    "let str = pstring"
   ]
  },
  {
   "cell_type": "code",
   "execution_count": 148,
   "metadata": {
    "dotnet_interactive": {
     "language": "fsharp"
    },
    "polyglot_notebook": {
     "kernelName": "fsharp"
    },
    "vscode": {
     "languageId": "polyglot-notebook"
    }
   },
   "outputs": [
    {
     "data": {
      "text/html": [
       "<details open=\"open\" class=\"dni-treeview\"><summary><span class=\"dni-code-hint\"><code>(1, [41; 48; 83; ... ], [83; 86; 6; ... ])</code></span></summary><div><table><thead><tr></tr></thead><tbody><tr><td>Item1</td><td><div class=\"dni-plaintext\"><pre>1</pre></div></td></tr><tr><td>Item2</td><td><details class=\"dni-treeview\"><summary><span class=\"dni-code-hint\"><code>[ 41, 48, 83, 86, 17 ]</code></span></summary><div><table><thead><tr></tr></thead><tbody><tr><td>HeadOrDefault</td><td><div class=\"dni-plaintext\"><pre>41</pre></div></td></tr><tr><td>TailOrNull</td><td><details class=\"dni-treeview\"><summary><span class=\"dni-code-hint\"><code>[ 48, 83, 86, 17 ]</code></span></summary><div><table><thead><tr></tr></thead><tbody><tr><td>HeadOrDefault</td><td><div class=\"dni-plaintext\"><pre>48</pre></div></td></tr><tr><td>TailOrNull</td><td><details class=\"dni-treeview\"><summary><span class=\"dni-code-hint\"><code>[ 83, 86, 17 ]</code></span></summary><div><table><thead><tr></tr></thead><tbody><tr><td>HeadOrDefault</td><td><div class=\"dni-plaintext\"><pre>83</pre></div></td></tr><tr><td>TailOrNull</td><td><details class=\"dni-treeview\"><summary><span class=\"dni-code-hint\"><code>[ 86, 17 ]</code></span></summary><div><table><thead><tr></tr></thead><tbody><tr><td>HeadOrDefault</td><td><div class=\"dni-plaintext\"><pre>86</pre></div></td></tr><tr><td>TailOrNull</td><td><details class=\"dni-treeview\"><summary><span class=\"dni-code-hint\"><code>[ 17 ]</code></span></summary><div><table><thead><tr></tr></thead><tbody><tr><td>HeadOrDefault</td><td>17</td></tr><tr><td>TailOrNull</td><td>[  ]</td></tr><tr><td>Head</td><td>17</td></tr><tr><td>Tail</td><td>[  ]</td></tr><tr><td><i>(values)</i></td><td><div class=\"dni-plaintext\"><pre>[ 17 ]</pre></div></td></tr></tbody></table></div></details></td></tr><tr><td>Head</td><td><div class=\"dni-plaintext\"><pre>86</pre></div></td></tr><tr><td>Tail</td><td><details class=\"dni-treeview\"><summary><span class=\"dni-code-hint\"><code>[ 17 ]</code></span></summary><div><table><thead><tr></tr></thead><tbody><tr><td>HeadOrDefault</td><td>17</td></tr><tr><td>TailOrNull</td><td>[  ]</td></tr><tr><td>Head</td><td>17</td></tr><tr><td>Tail</td><td>[  ]</td></tr><tr><td><i>(values)</i></td><td><div class=\"dni-plaintext\"><pre>[ 17 ]</pre></div></td></tr></tbody></table></div></details></td></tr><tr><td><i>(values)</i></td><td><div class=\"dni-plaintext\"><pre>[ 86, 17 ]</pre></div></td></tr></tbody></table></div></details></td></tr><tr><td>Head</td><td><div class=\"dni-plaintext\"><pre>83</pre></div></td></tr><tr><td>Tail</td><td><details class=\"dni-treeview\"><summary><span class=\"dni-code-hint\"><code>[ 86, 17 ]</code></span></summary><div><table><thead><tr></tr></thead><tbody><tr><td>HeadOrDefault</td><td><div class=\"dni-plaintext\"><pre>86</pre></div></td></tr><tr><td>TailOrNull</td><td><details class=\"dni-treeview\"><summary><span class=\"dni-code-hint\"><code>[ 17 ]</code></span></summary><div><table><thead><tr></tr></thead><tbody><tr><td>HeadOrDefault</td><td>17</td></tr><tr><td>TailOrNull</td><td>[  ]</td></tr><tr><td>Head</td><td>17</td></tr><tr><td>Tail</td><td>[  ]</td></tr><tr><td><i>(values)</i></td><td><div class=\"dni-plaintext\"><pre>[ 17 ]</pre></div></td></tr></tbody></table></div></details></td></tr><tr><td>Head</td><td><div class=\"dni-plaintext\"><pre>86</pre></div></td></tr><tr><td>Tail</td><td><details class=\"dni-treeview\"><summary><span class=\"dni-code-hint\"><code>[ 17 ]</code></span></summary><div><table><thead><tr></tr></thead><tbody><tr><td>HeadOrDefault</td><td>17</td></tr><tr><td>TailOrNull</td><td>[  ]</td></tr><tr><td>Head</td><td>17</td></tr><tr><td>Tail</td><td>[  ]</td></tr><tr><td><i>(values)</i></td><td><div class=\"dni-plaintext\"><pre>[ 17 ]</pre></div></td></tr></tbody></table></div></details></td></tr><tr><td><i>(values)</i></td><td><div class=\"dni-plaintext\"><pre>[ 86, 17 ]</pre></div></td></tr></tbody></table></div></details></td></tr><tr><td><i>(values)</i></td><td><div class=\"dni-plaintext\"><pre>[ 83, 86, 17 ]</pre></div></td></tr></tbody></table></div></details></td></tr><tr><td>Head</td><td><div class=\"dni-plaintext\"><pre>48</pre></div></td></tr><tr><td>Tail</td><td><details class=\"dni-treeview\"><summary><span class=\"dni-code-hint\"><code>[ 83, 86, 17 ]</code></span></summary><div><table><thead><tr></tr></thead><tbody><tr><td>HeadOrDefault</td><td><div class=\"dni-plaintext\"><pre>83</pre></div></td></tr><tr><td>TailOrNull</td><td><details class=\"dni-treeview\"><summary><span class=\"dni-code-hint\"><code>[ 86, 17 ]</code></span></summary><div><table><thead><tr></tr></thead><tbody><tr><td>HeadOrDefault</td><td><div class=\"dni-plaintext\"><pre>86</pre></div></td></tr><tr><td>TailOrNull</td><td><details class=\"dni-treeview\"><summary><span class=\"dni-code-hint\"><code>[ 17 ]</code></span></summary><div><table><thead><tr></tr></thead><tbody><tr><td>HeadOrDefault</td><td>17</td></tr><tr><td>TailOrNull</td><td>[  ]</td></tr><tr><td>Head</td><td>17</td></tr><tr><td>Tail</td><td>[  ]</td></tr><tr><td><i>(values)</i></td><td><div class=\"dni-plaintext\"><pre>[ 17 ]</pre></div></td></tr></tbody></table></div></details></td></tr><tr><td>Head</td><td><div class=\"dni-plaintext\"><pre>86</pre></div></td></tr><tr><td>Tail</td><td><details class=\"dni-treeview\"><summary><span class=\"dni-code-hint\"><code>[ 17 ]</code></span></summary><div><table><thead><tr></tr></thead><tbody><tr><td>HeadOrDefault</td><td>17</td></tr><tr><td>TailOrNull</td><td>[  ]</td></tr><tr><td>Head</td><td>17</td></tr><tr><td>Tail</td><td>[  ]</td></tr><tr><td><i>(values)</i></td><td><div class=\"dni-plaintext\"><pre>[ 17 ]</pre></div></td></tr></tbody></table></div></details></td></tr><tr><td><i>(values)</i></td><td><div class=\"dni-plaintext\"><pre>[ 86, 17 ]</pre></div></td></tr></tbody></table></div></details></td></tr><tr><td>Head</td><td><div class=\"dni-plaintext\"><pre>83</pre></div></td></tr><tr><td>Tail</td><td><details class=\"dni-treeview\"><summary><span class=\"dni-code-hint\"><code>[ 86, 17 ]</code></span></summary><div><table><thead><tr></tr></thead><tbody><tr><td>HeadOrDefault</td><td><div class=\"dni-plaintext\"><pre>86</pre></div></td></tr><tr><td>TailOrNull</td><td><details class=\"dni-treeview\"><summary><span class=\"dni-code-hint\"><code>[ 17 ]</code></span></summary><div><table><thead><tr></tr></thead><tbody><tr><td>HeadOrDefault</td><td>17</td></tr><tr><td>TailOrNull</td><td>[  ]</td></tr><tr><td>Head</td><td>17</td></tr><tr><td>Tail</td><td>[  ]</td></tr><tr><td><i>(values)</i></td><td><div class=\"dni-plaintext\"><pre>[ 17 ]</pre></div></td></tr></tbody></table></div></details></td></tr><tr><td>Head</td><td><div class=\"dni-plaintext\"><pre>86</pre></div></td></tr><tr><td>Tail</td><td><details class=\"dni-treeview\"><summary><span class=\"dni-code-hint\"><code>[ 17 ]</code></span></summary><div><table><thead><tr></tr></thead><tbody><tr><td>HeadOrDefault</td><td>17</td></tr><tr><td>TailOrNull</td><td>[  ]</td></tr><tr><td>Head</td><td>17</td></tr><tr><td>Tail</td><td>[  ]</td></tr><tr><td><i>(values)</i></td><td><div class=\"dni-plaintext\"><pre>[ 17 ]</pre></div></td></tr></tbody></table></div></details></td></tr><tr><td><i>(values)</i></td><td><div class=\"dni-plaintext\"><pre>[ 86, 17 ]</pre></div></td></tr></tbody></table></div></details></td></tr><tr><td><i>(values)</i></td><td><div class=\"dni-plaintext\"><pre>[ 83, 86, 17 ]</pre></div></td></tr></tbody></table></div></details></td></tr><tr><td><i>(values)</i></td><td><div class=\"dni-plaintext\"><pre>[ 48, 83, 86, 17 ]</pre></div></td></tr></tbody></table></div></details></td></tr><tr><td>Head</td><td><div class=\"dni-plaintext\"><pre>41</pre></div></td></tr><tr><td>Tail</td><td><details class=\"dni-treeview\"><summary><span class=\"dni-code-hint\"><code>[ 48, 83, 86, 17 ]</code></span></summary><div><table><thead><tr></tr></thead><tbody><tr><td>HeadOrDefault</td><td><div class=\"dni-plaintext\"><pre>48</pre></div></td></tr><tr><td>TailOrNull</td><td><details class=\"dni-treeview\"><summary><span class=\"dni-code-hint\"><code>[ 83, 86, 17 ]</code></span></summary><div><table><thead><tr></tr></thead><tbody><tr><td>HeadOrDefault</td><td><div class=\"dni-plaintext\"><pre>83</pre></div></td></tr><tr><td>TailOrNull</td><td><details class=\"dni-treeview\"><summary><span class=\"dni-code-hint\"><code>[ 86, 17 ]</code></span></summary><div><table><thead><tr></tr></thead><tbody><tr><td>HeadOrDefault</td><td><div class=\"dni-plaintext\"><pre>86</pre></div></td></tr><tr><td>TailOrNull</td><td><details class=\"dni-treeview\"><summary><span class=\"dni-code-hint\"><code>[ 17 ]</code></span></summary><div><table><thead><tr></tr></thead><tbody><tr><td>HeadOrDefault</td><td>17</td></tr><tr><td>TailOrNull</td><td>[  ]</td></tr><tr><td>Head</td><td>17</td></tr><tr><td>Tail</td><td>[  ]</td></tr><tr><td><i>(values)</i></td><td><div class=\"dni-plaintext\"><pre>[ 17 ]</pre></div></td></tr></tbody></table></div></details></td></tr><tr><td>Head</td><td><div class=\"dni-plaintext\"><pre>86</pre></div></td></tr><tr><td>Tail</td><td><details class=\"dni-treeview\"><summary><span class=\"dni-code-hint\"><code>[ 17 ]</code></span></summary><div><table><thead><tr></tr></thead><tbody><tr><td>HeadOrDefault</td><td>17</td></tr><tr><td>TailOrNull</td><td>[  ]</td></tr><tr><td>Head</td><td>17</td></tr><tr><td>Tail</td><td>[  ]</td></tr><tr><td><i>(values)</i></td><td><div class=\"dni-plaintext\"><pre>[ 17 ]</pre></div></td></tr></tbody></table></div></details></td></tr><tr><td><i>(values)</i></td><td><div class=\"dni-plaintext\"><pre>[ 86, 17 ]</pre></div></td></tr></tbody></table></div></details></td></tr><tr><td>Head</td><td><div class=\"dni-plaintext\"><pre>83</pre></div></td></tr><tr><td>Tail</td><td><details class=\"dni-treeview\"><summary><span class=\"dni-code-hint\"><code>[ 86, 17 ]</code></span></summary><div><table><thead><tr></tr></thead><tbody><tr><td>HeadOrDefault</td><td><div class=\"dni-plaintext\"><pre>86</pre></div></td></tr><tr><td>TailOrNull</td><td><details class=\"dni-treeview\"><summary><span class=\"dni-code-hint\"><code>[ 17 ]</code></span></summary><div><table><thead><tr></tr></thead><tbody><tr><td>HeadOrDefault</td><td>17</td></tr><tr><td>TailOrNull</td><td>[  ]</td></tr><tr><td>Head</td><td>17</td></tr><tr><td>Tail</td><td>[  ]</td></tr><tr><td><i>(values)</i></td><td><div class=\"dni-plaintext\"><pre>[ 17 ]</pre></div></td></tr></tbody></table></div></details></td></tr><tr><td>Head</td><td><div class=\"dni-plaintext\"><pre>86</pre></div></td></tr><tr><td>Tail</td><td><details class=\"dni-treeview\"><summary><span class=\"dni-code-hint\"><code>[ 17 ]</code></span></summary><div><table><thead><tr></tr></thead><tbody><tr><td>HeadOrDefault</td><td>17</td></tr><tr><td>TailOrNull</td><td>[  ]</td></tr><tr><td>Head</td><td>17</td></tr><tr><td>Tail</td><td>[  ]</td></tr><tr><td><i>(values)</i></td><td><div class=\"dni-plaintext\"><pre>[ 17 ]</pre></div></td></tr></tbody></table></div></details></td></tr><tr><td><i>(values)</i></td><td><div class=\"dni-plaintext\"><pre>[ 86, 17 ]</pre></div></td></tr></tbody></table></div></details></td></tr><tr><td><i>(values)</i></td><td><div class=\"dni-plaintext\"><pre>[ 83, 86, 17 ]</pre></div></td></tr></tbody></table></div></details></td></tr><tr><td>Head</td><td><div class=\"dni-plaintext\"><pre>48</pre></div></td></tr><tr><td>Tail</td><td><details class=\"dni-treeview\"><summary><span class=\"dni-code-hint\"><code>[ 83, 86, 17 ]</code></span></summary><div><table><thead><tr></tr></thead><tbody><tr><td>HeadOrDefault</td><td><div class=\"dni-plaintext\"><pre>83</pre></div></td></tr><tr><td>TailOrNull</td><td><details class=\"dni-treeview\"><summary><span class=\"dni-code-hint\"><code>[ 86, 17 ]</code></span></summary><div><table><thead><tr></tr></thead><tbody><tr><td>HeadOrDefault</td><td><div class=\"dni-plaintext\"><pre>86</pre></div></td></tr><tr><td>TailOrNull</td><td><details class=\"dni-treeview\"><summary><span class=\"dni-code-hint\"><code>[ 17 ]</code></span></summary><div><table><thead><tr></tr></thead><tbody><tr><td>HeadOrDefault</td><td>17</td></tr><tr><td>TailOrNull</td><td>[  ]</td></tr><tr><td>Head</td><td>17</td></tr><tr><td>Tail</td><td>[  ]</td></tr><tr><td><i>(values)</i></td><td><div class=\"dni-plaintext\"><pre>[ 17 ]</pre></div></td></tr></tbody></table></div></details></td></tr><tr><td>Head</td><td><div class=\"dni-plaintext\"><pre>86</pre></div></td></tr><tr><td>Tail</td><td><details class=\"dni-treeview\"><summary><span class=\"dni-code-hint\"><code>[ 17 ]</code></span></summary><div><table><thead><tr></tr></thead><tbody><tr><td>HeadOrDefault</td><td>17</td></tr><tr><td>TailOrNull</td><td>[  ]</td></tr><tr><td>Head</td><td>17</td></tr><tr><td>Tail</td><td>[  ]</td></tr><tr><td><i>(values)</i></td><td><div class=\"dni-plaintext\"><pre>[ 17 ]</pre></div></td></tr></tbody></table></div></details></td></tr><tr><td><i>(values)</i></td><td><div class=\"dni-plaintext\"><pre>[ 86, 17 ]</pre></div></td></tr></tbody></table></div></details></td></tr><tr><td>Head</td><td><div class=\"dni-plaintext\"><pre>83</pre></div></td></tr><tr><td>Tail</td><td><details class=\"dni-treeview\"><summary><span class=\"dni-code-hint\"><code>[ 86, 17 ]</code></span></summary><div><table><thead><tr></tr></thead><tbody><tr><td>HeadOrDefault</td><td><div class=\"dni-plaintext\"><pre>86</pre></div></td></tr><tr><td>TailOrNull</td><td><details class=\"dni-treeview\"><summary><span class=\"dni-code-hint\"><code>[ 17 ]</code></span></summary><div><table><thead><tr></tr></thead><tbody><tr><td>HeadOrDefault</td><td>17</td></tr><tr><td>TailOrNull</td><td>[  ]</td></tr><tr><td>Head</td><td>17</td></tr><tr><td>Tail</td><td>[  ]</td></tr><tr><td><i>(values)</i></td><td><div class=\"dni-plaintext\"><pre>[ 17 ]</pre></div></td></tr></tbody></table></div></details></td></tr><tr><td>Head</td><td><div class=\"dni-plaintext\"><pre>86</pre></div></td></tr><tr><td>Tail</td><td><details class=\"dni-treeview\"><summary><span class=\"dni-code-hint\"><code>[ 17 ]</code></span></summary><div><table><thead><tr></tr></thead><tbody><tr><td>HeadOrDefault</td><td>17</td></tr><tr><td>TailOrNull</td><td>[  ]</td></tr><tr><td>Head</td><td>17</td></tr><tr><td>Tail</td><td>[  ]</td></tr><tr><td><i>(values)</i></td><td><div class=\"dni-plaintext\"><pre>[ 17 ]</pre></div></td></tr></tbody></table></div></details></td></tr><tr><td><i>(values)</i></td><td><div class=\"dni-plaintext\"><pre>[ 86, 17 ]</pre></div></td></tr></tbody></table></div></details></td></tr><tr><td><i>(values)</i></td><td><div class=\"dni-plaintext\"><pre>[ 83, 86, 17 ]</pre></div></td></tr></tbody></table></div></details></td></tr><tr><td><i>(values)</i></td><td><div class=\"dni-plaintext\"><pre>[ 48, 83, 86, 17 ]</pre></div></td></tr></tbody></table></div></details></td></tr><tr><td><i>(values)</i></td><td><div class=\"dni-plaintext\"><pre>[ 41, 48, 83, 86, 17 ]</pre></div></td></tr></tbody></table></div></details></td></tr><tr><td>Item3</td><td><details class=\"dni-treeview\"><summary><span class=\"dni-code-hint\"><code>[ 83, 86, 6, 31, 17, 9, 48, 53 ]</code></span></summary><div><table><thead><tr></tr></thead><tbody><tr><td>HeadOrDefault</td><td><div class=\"dni-plaintext\"><pre>83</pre></div></td></tr><tr><td>TailOrNull</td><td><details class=\"dni-treeview\"><summary><span class=\"dni-code-hint\"><code>[ 86, 6, 31, 17, 9, 48, 53 ]</code></span></summary><div><table><thead><tr></tr></thead><tbody><tr><td>HeadOrDefault</td><td><div class=\"dni-plaintext\"><pre>86</pre></div></td></tr><tr><td>TailOrNull</td><td><details class=\"dni-treeview\"><summary><span class=\"dni-code-hint\"><code>[ 6, 31, 17, 9, 48, 53 ]</code></span></summary><div><table><thead><tr></tr></thead><tbody><tr><td>HeadOrDefault</td><td><div class=\"dni-plaintext\"><pre>6</pre></div></td></tr><tr><td>TailOrNull</td><td><details class=\"dni-treeview\"><summary><span class=\"dni-code-hint\"><code>[ 31, 17, 9, 48, 53 ]</code></span></summary><div><table><thead><tr></tr></thead><tbody><tr><td>HeadOrDefault</td><td><div class=\"dni-plaintext\"><pre>31</pre></div></td></tr><tr><td>TailOrNull</td><td><details class=\"dni-treeview\"><summary><span class=\"dni-code-hint\"><code>[ 17, 9, 48, 53 ]</code></span></summary><div><table><thead><tr></tr></thead><tbody><tr><td>HeadOrDefault</td><td>17</td></tr><tr><td>TailOrNull</td><td>[ 9, 48, 53 ]</td></tr><tr><td>Head</td><td>17</td></tr><tr><td>Tail</td><td>[ 9, 48, 53 ]</td></tr><tr><td><i>(values)</i></td><td><div class=\"dni-plaintext\"><pre>[ 17, 9, 48, 53 ]</pre></div></td></tr></tbody></table></div></details></td></tr><tr><td>Head</td><td><div class=\"dni-plaintext\"><pre>31</pre></div></td></tr><tr><td>Tail</td><td><details class=\"dni-treeview\"><summary><span class=\"dni-code-hint\"><code>[ 17, 9, 48, 53 ]</code></span></summary><div><table><thead><tr></tr></thead><tbody><tr><td>HeadOrDefault</td><td>17</td></tr><tr><td>TailOrNull</td><td>[ 9, 48, 53 ]</td></tr><tr><td>Head</td><td>17</td></tr><tr><td>Tail</td><td>[ 9, 48, 53 ]</td></tr><tr><td><i>(values)</i></td><td><div class=\"dni-plaintext\"><pre>[ 17, 9, 48, 53 ]</pre></div></td></tr></tbody></table></div></details></td></tr><tr><td><i>(values)</i></td><td><div class=\"dni-plaintext\"><pre>[ 31, 17, 9, 48, 53 ]</pre></div></td></tr></tbody></table></div></details></td></tr><tr><td>Head</td><td><div class=\"dni-plaintext\"><pre>6</pre></div></td></tr><tr><td>Tail</td><td><details class=\"dni-treeview\"><summary><span class=\"dni-code-hint\"><code>[ 31, 17, 9, 48, 53 ]</code></span></summary><div><table><thead><tr></tr></thead><tbody><tr><td>HeadOrDefault</td><td><div class=\"dni-plaintext\"><pre>31</pre></div></td></tr><tr><td>TailOrNull</td><td><details class=\"dni-treeview\"><summary><span class=\"dni-code-hint\"><code>[ 17, 9, 48, 53 ]</code></span></summary><div><table><thead><tr></tr></thead><tbody><tr><td>HeadOrDefault</td><td>17</td></tr><tr><td>TailOrNull</td><td>[ 9, 48, 53 ]</td></tr><tr><td>Head</td><td>17</td></tr><tr><td>Tail</td><td>[ 9, 48, 53 ]</td></tr><tr><td><i>(values)</i></td><td><div class=\"dni-plaintext\"><pre>[ 17, 9, 48, 53 ]</pre></div></td></tr></tbody></table></div></details></td></tr><tr><td>Head</td><td><div class=\"dni-plaintext\"><pre>31</pre></div></td></tr><tr><td>Tail</td><td><details class=\"dni-treeview\"><summary><span class=\"dni-code-hint\"><code>[ 17, 9, 48, 53 ]</code></span></summary><div><table><thead><tr></tr></thead><tbody><tr><td>HeadOrDefault</td><td>17</td></tr><tr><td>TailOrNull</td><td>[ 9, 48, 53 ]</td></tr><tr><td>Head</td><td>17</td></tr><tr><td>Tail</td><td>[ 9, 48, 53 ]</td></tr><tr><td><i>(values)</i></td><td><div class=\"dni-plaintext\"><pre>[ 17, 9, 48, 53 ]</pre></div></td></tr></tbody></table></div></details></td></tr><tr><td><i>(values)</i></td><td><div class=\"dni-plaintext\"><pre>[ 31, 17, 9, 48, 53 ]</pre></div></td></tr></tbody></table></div></details></td></tr><tr><td><i>(values)</i></td><td><div class=\"dni-plaintext\"><pre>[ 6, 31, 17, 9, 48, 53 ]</pre></div></td></tr></tbody></table></div></details></td></tr><tr><td>Head</td><td><div class=\"dni-plaintext\"><pre>86</pre></div></td></tr><tr><td>Tail</td><td><details class=\"dni-treeview\"><summary><span class=\"dni-code-hint\"><code>[ 6, 31, 17, 9, 48, 53 ]</code></span></summary><div><table><thead><tr></tr></thead><tbody><tr><td>HeadOrDefault</td><td><div class=\"dni-plaintext\"><pre>6</pre></div></td></tr><tr><td>TailOrNull</td><td><details class=\"dni-treeview\"><summary><span class=\"dni-code-hint\"><code>[ 31, 17, 9, 48, 53 ]</code></span></summary><div><table><thead><tr></tr></thead><tbody><tr><td>HeadOrDefault</td><td><div class=\"dni-plaintext\"><pre>31</pre></div></td></tr><tr><td>TailOrNull</td><td><details class=\"dni-treeview\"><summary><span class=\"dni-code-hint\"><code>[ 17, 9, 48, 53 ]</code></span></summary><div><table><thead><tr></tr></thead><tbody><tr><td>HeadOrDefault</td><td>17</td></tr><tr><td>TailOrNull</td><td>[ 9, 48, 53 ]</td></tr><tr><td>Head</td><td>17</td></tr><tr><td>Tail</td><td>[ 9, 48, 53 ]</td></tr><tr><td><i>(values)</i></td><td><div class=\"dni-plaintext\"><pre>[ 17, 9, 48, 53 ]</pre></div></td></tr></tbody></table></div></details></td></tr><tr><td>Head</td><td><div class=\"dni-plaintext\"><pre>31</pre></div></td></tr><tr><td>Tail</td><td><details class=\"dni-treeview\"><summary><span class=\"dni-code-hint\"><code>[ 17, 9, 48, 53 ]</code></span></summary><div><table><thead><tr></tr></thead><tbody><tr><td>HeadOrDefault</td><td>17</td></tr><tr><td>TailOrNull</td><td>[ 9, 48, 53 ]</td></tr><tr><td>Head</td><td>17</td></tr><tr><td>Tail</td><td>[ 9, 48, 53 ]</td></tr><tr><td><i>(values)</i></td><td><div class=\"dni-plaintext\"><pre>[ 17, 9, 48, 53 ]</pre></div></td></tr></tbody></table></div></details></td></tr><tr><td><i>(values)</i></td><td><div class=\"dni-plaintext\"><pre>[ 31, 17, 9, 48, 53 ]</pre></div></td></tr></tbody></table></div></details></td></tr><tr><td>Head</td><td><div class=\"dni-plaintext\"><pre>6</pre></div></td></tr><tr><td>Tail</td><td><details class=\"dni-treeview\"><summary><span class=\"dni-code-hint\"><code>[ 31, 17, 9, 48, 53 ]</code></span></summary><div><table><thead><tr></tr></thead><tbody><tr><td>HeadOrDefault</td><td><div class=\"dni-plaintext\"><pre>31</pre></div></td></tr><tr><td>TailOrNull</td><td><details class=\"dni-treeview\"><summary><span class=\"dni-code-hint\"><code>[ 17, 9, 48, 53 ]</code></span></summary><div><table><thead><tr></tr></thead><tbody><tr><td>HeadOrDefault</td><td>17</td></tr><tr><td>TailOrNull</td><td>[ 9, 48, 53 ]</td></tr><tr><td>Head</td><td>17</td></tr><tr><td>Tail</td><td>[ 9, 48, 53 ]</td></tr><tr><td><i>(values)</i></td><td><div class=\"dni-plaintext\"><pre>[ 17, 9, 48, 53 ]</pre></div></td></tr></tbody></table></div></details></td></tr><tr><td>Head</td><td><div class=\"dni-plaintext\"><pre>31</pre></div></td></tr><tr><td>Tail</td><td><details class=\"dni-treeview\"><summary><span class=\"dni-code-hint\"><code>[ 17, 9, 48, 53 ]</code></span></summary><div><table><thead><tr></tr></thead><tbody><tr><td>HeadOrDefault</td><td>17</td></tr><tr><td>TailOrNull</td><td>[ 9, 48, 53 ]</td></tr><tr><td>Head</td><td>17</td></tr><tr><td>Tail</td><td>[ 9, 48, 53 ]</td></tr><tr><td><i>(values)</i></td><td><div class=\"dni-plaintext\"><pre>[ 17, 9, 48, 53 ]</pre></div></td></tr></tbody></table></div></details></td></tr><tr><td><i>(values)</i></td><td><div class=\"dni-plaintext\"><pre>[ 31, 17, 9, 48, 53 ]</pre></div></td></tr></tbody></table></div></details></td></tr><tr><td><i>(values)</i></td><td><div class=\"dni-plaintext\"><pre>[ 6, 31, 17, 9, 48, 53 ]</pre></div></td></tr></tbody></table></div></details></td></tr><tr><td><i>(values)</i></td><td><div class=\"dni-plaintext\"><pre>[ 86, 6, 31, 17, 9, 48, 53 ]</pre></div></td></tr></tbody></table></div></details></td></tr><tr><td>Head</td><td><div class=\"dni-plaintext\"><pre>83</pre></div></td></tr><tr><td>Tail</td><td><details class=\"dni-treeview\"><summary><span class=\"dni-code-hint\"><code>[ 86, 6, 31, 17, 9, 48, 53 ]</code></span></summary><div><table><thead><tr></tr></thead><tbody><tr><td>HeadOrDefault</td><td><div class=\"dni-plaintext\"><pre>86</pre></div></td></tr><tr><td>TailOrNull</td><td><details class=\"dni-treeview\"><summary><span class=\"dni-code-hint\"><code>[ 6, 31, 17, 9, 48, 53 ]</code></span></summary><div><table><thead><tr></tr></thead><tbody><tr><td>HeadOrDefault</td><td><div class=\"dni-plaintext\"><pre>6</pre></div></td></tr><tr><td>TailOrNull</td><td><details class=\"dni-treeview\"><summary><span class=\"dni-code-hint\"><code>[ 31, 17, 9, 48, 53 ]</code></span></summary><div><table><thead><tr></tr></thead><tbody><tr><td>HeadOrDefault</td><td><div class=\"dni-plaintext\"><pre>31</pre></div></td></tr><tr><td>TailOrNull</td><td><details class=\"dni-treeview\"><summary><span class=\"dni-code-hint\"><code>[ 17, 9, 48, 53 ]</code></span></summary><div><table><thead><tr></tr></thead><tbody><tr><td>HeadOrDefault</td><td>17</td></tr><tr><td>TailOrNull</td><td>[ 9, 48, 53 ]</td></tr><tr><td>Head</td><td>17</td></tr><tr><td>Tail</td><td>[ 9, 48, 53 ]</td></tr><tr><td><i>(values)</i></td><td><div class=\"dni-plaintext\"><pre>[ 17, 9, 48, 53 ]</pre></div></td></tr></tbody></table></div></details></td></tr><tr><td>Head</td><td><div class=\"dni-plaintext\"><pre>31</pre></div></td></tr><tr><td>Tail</td><td><details class=\"dni-treeview\"><summary><span class=\"dni-code-hint\"><code>[ 17, 9, 48, 53 ]</code></span></summary><div><table><thead><tr></tr></thead><tbody><tr><td>HeadOrDefault</td><td>17</td></tr><tr><td>TailOrNull</td><td>[ 9, 48, 53 ]</td></tr><tr><td>Head</td><td>17</td></tr><tr><td>Tail</td><td>[ 9, 48, 53 ]</td></tr><tr><td><i>(values)</i></td><td><div class=\"dni-plaintext\"><pre>[ 17, 9, 48, 53 ]</pre></div></td></tr></tbody></table></div></details></td></tr><tr><td><i>(values)</i></td><td><div class=\"dni-plaintext\"><pre>[ 31, 17, 9, 48, 53 ]</pre></div></td></tr></tbody></table></div></details></td></tr><tr><td>Head</td><td><div class=\"dni-plaintext\"><pre>6</pre></div></td></tr><tr><td>Tail</td><td><details class=\"dni-treeview\"><summary><span class=\"dni-code-hint\"><code>[ 31, 17, 9, 48, 53 ]</code></span></summary><div><table><thead><tr></tr></thead><tbody><tr><td>HeadOrDefault</td><td><div class=\"dni-plaintext\"><pre>31</pre></div></td></tr><tr><td>TailOrNull</td><td><details class=\"dni-treeview\"><summary><span class=\"dni-code-hint\"><code>[ 17, 9, 48, 53 ]</code></span></summary><div><table><thead><tr></tr></thead><tbody><tr><td>HeadOrDefault</td><td>17</td></tr><tr><td>TailOrNull</td><td>[ 9, 48, 53 ]</td></tr><tr><td>Head</td><td>17</td></tr><tr><td>Tail</td><td>[ 9, 48, 53 ]</td></tr><tr><td><i>(values)</i></td><td><div class=\"dni-plaintext\"><pre>[ 17, 9, 48, 53 ]</pre></div></td></tr></tbody></table></div></details></td></tr><tr><td>Head</td><td><div class=\"dni-plaintext\"><pre>31</pre></div></td></tr><tr><td>Tail</td><td><details class=\"dni-treeview\"><summary><span class=\"dni-code-hint\"><code>[ 17, 9, 48, 53 ]</code></span></summary><div><table><thead><tr></tr></thead><tbody><tr><td>HeadOrDefault</td><td>17</td></tr><tr><td>TailOrNull</td><td>[ 9, 48, 53 ]</td></tr><tr><td>Head</td><td>17</td></tr><tr><td>Tail</td><td>[ 9, 48, 53 ]</td></tr><tr><td><i>(values)</i></td><td><div class=\"dni-plaintext\"><pre>[ 17, 9, 48, 53 ]</pre></div></td></tr></tbody></table></div></details></td></tr><tr><td><i>(values)</i></td><td><div class=\"dni-plaintext\"><pre>[ 31, 17, 9, 48, 53 ]</pre></div></td></tr></tbody></table></div></details></td></tr><tr><td><i>(values)</i></td><td><div class=\"dni-plaintext\"><pre>[ 6, 31, 17, 9, 48, 53 ]</pre></div></td></tr></tbody></table></div></details></td></tr><tr><td>Head</td><td><div class=\"dni-plaintext\"><pre>86</pre></div></td></tr><tr><td>Tail</td><td><details class=\"dni-treeview\"><summary><span class=\"dni-code-hint\"><code>[ 6, 31, 17, 9, 48, 53 ]</code></span></summary><div><table><thead><tr></tr></thead><tbody><tr><td>HeadOrDefault</td><td><div class=\"dni-plaintext\"><pre>6</pre></div></td></tr><tr><td>TailOrNull</td><td><details class=\"dni-treeview\"><summary><span class=\"dni-code-hint\"><code>[ 31, 17, 9, 48, 53 ]</code></span></summary><div><table><thead><tr></tr></thead><tbody><tr><td>HeadOrDefault</td><td><div class=\"dni-plaintext\"><pre>31</pre></div></td></tr><tr><td>TailOrNull</td><td><details class=\"dni-treeview\"><summary><span class=\"dni-code-hint\"><code>[ 17, 9, 48, 53 ]</code></span></summary><div><table><thead><tr></tr></thead><tbody><tr><td>HeadOrDefault</td><td>17</td></tr><tr><td>TailOrNull</td><td>[ 9, 48, 53 ]</td></tr><tr><td>Head</td><td>17</td></tr><tr><td>Tail</td><td>[ 9, 48, 53 ]</td></tr><tr><td><i>(values)</i></td><td><div class=\"dni-plaintext\"><pre>[ 17, 9, 48, 53 ]</pre></div></td></tr></tbody></table></div></details></td></tr><tr><td>Head</td><td><div class=\"dni-plaintext\"><pre>31</pre></div></td></tr><tr><td>Tail</td><td><details class=\"dni-treeview\"><summary><span class=\"dni-code-hint\"><code>[ 17, 9, 48, 53 ]</code></span></summary><div><table><thead><tr></tr></thead><tbody><tr><td>HeadOrDefault</td><td>17</td></tr><tr><td>TailOrNull</td><td>[ 9, 48, 53 ]</td></tr><tr><td>Head</td><td>17</td></tr><tr><td>Tail</td><td>[ 9, 48, 53 ]</td></tr><tr><td><i>(values)</i></td><td><div class=\"dni-plaintext\"><pre>[ 17, 9, 48, 53 ]</pre></div></td></tr></tbody></table></div></details></td></tr><tr><td><i>(values)</i></td><td><div class=\"dni-plaintext\"><pre>[ 31, 17, 9, 48, 53 ]</pre></div></td></tr></tbody></table></div></details></td></tr><tr><td>Head</td><td><div class=\"dni-plaintext\"><pre>6</pre></div></td></tr><tr><td>Tail</td><td><details class=\"dni-treeview\"><summary><span class=\"dni-code-hint\"><code>[ 31, 17, 9, 48, 53 ]</code></span></summary><div><table><thead><tr></tr></thead><tbody><tr><td>HeadOrDefault</td><td><div class=\"dni-plaintext\"><pre>31</pre></div></td></tr><tr><td>TailOrNull</td><td><details class=\"dni-treeview\"><summary><span class=\"dni-code-hint\"><code>[ 17, 9, 48, 53 ]</code></span></summary><div><table><thead><tr></tr></thead><tbody><tr><td>HeadOrDefault</td><td>17</td></tr><tr><td>TailOrNull</td><td>[ 9, 48, 53 ]</td></tr><tr><td>Head</td><td>17</td></tr><tr><td>Tail</td><td>[ 9, 48, 53 ]</td></tr><tr><td><i>(values)</i></td><td><div class=\"dni-plaintext\"><pre>[ 17, 9, 48, 53 ]</pre></div></td></tr></tbody></table></div></details></td></tr><tr><td>Head</td><td><div class=\"dni-plaintext\"><pre>31</pre></div></td></tr><tr><td>Tail</td><td><details class=\"dni-treeview\"><summary><span class=\"dni-code-hint\"><code>[ 17, 9, 48, 53 ]</code></span></summary><div><table><thead><tr></tr></thead><tbody><tr><td>HeadOrDefault</td><td>17</td></tr><tr><td>TailOrNull</td><td>[ 9, 48, 53 ]</td></tr><tr><td>Head</td><td>17</td></tr><tr><td>Tail</td><td>[ 9, 48, 53 ]</td></tr><tr><td><i>(values)</i></td><td><div class=\"dni-plaintext\"><pre>[ 17, 9, 48, 53 ]</pre></div></td></tr></tbody></table></div></details></td></tr><tr><td><i>(values)</i></td><td><div class=\"dni-plaintext\"><pre>[ 31, 17, 9, 48, 53 ]</pre></div></td></tr></tbody></table></div></details></td></tr><tr><td><i>(values)</i></td><td><div class=\"dni-plaintext\"><pre>[ 6, 31, 17, 9, 48, 53 ]</pre></div></td></tr></tbody></table></div></details></td></tr><tr><td><i>(values)</i></td><td><div class=\"dni-plaintext\"><pre>[ 86, 6, 31, 17, 9, 48, 53 ]</pre></div></td></tr></tbody></table></div></details></td></tr><tr><td><i>(values)</i></td><td><div class=\"dni-plaintext\"><pre>[ 83, 86, 6, 31, 17, 9, 48, 53 ]</pre></div></td></tr></tbody></table></div></details></td></tr></tbody></table></div></details><style>\r\n",
       ".dni-code-hint {\r\n",
       "    font-style: italic;\r\n",
       "    overflow: hidden;\r\n",
       "    white-space: nowrap;\r\n",
       "}\r\n",
       ".dni-treeview {\r\n",
       "    white-space: nowrap;\r\n",
       "}\r\n",
       ".dni-treeview td {\r\n",
       "    vertical-align: top;\r\n",
       "    text-align: start;\r\n",
       "}\r\n",
       "details.dni-treeview {\r\n",
       "    padding-left: 1em;\r\n",
       "}\r\n",
       "table td {\r\n",
       "    text-align: start;\r\n",
       "}\r\n",
       "table tr { \r\n",
       "    vertical-align: top; \r\n",
       "    margin: 0em 0px;\r\n",
       "}\r\n",
       "table tr td pre \r\n",
       "{ \r\n",
       "    vertical-align: top !important; \r\n",
       "    margin: 0em 0px !important;\r\n",
       "} \r\n",
       "table th {\r\n",
       "    text-align: start;\r\n",
       "}\r\n",
       "</style>"
      ]
     },
     "metadata": {},
     "output_type": "display_data"
    }
   ],
   "source": [
    "let cardNumberParser = (str \"Card \") >>. spaces >>. pint64 .>> str \":\" .>> spaces\n",
    "//let numListParser = sepBy pint32 spaces1\n",
    "let pipe = str \"|\" .>> spaces\n",
    "let scratchCardParser =\n",
    "    tuple3\n",
    "        cardNumberParser\n",
    "        (manyTill (pint64 .>> spaces) pipe )\n",
    "        (many (pint64 .>> spaces))\n",
    "\n",
    "let parseScratchCard (s: string) =\n",
    "    match run scratchCardParser s with\n",
    "    | Success (result, _, _) -> result\n",
    "    | Failure (message, _, _) -> failwith message\n",
    "\n",
    "parseScratchCard \"Card 1: 41 48 83 86 17 |  83 86  6 31 17  9 48 53\"\n",
    "\n"
   ]
  },
  {
   "cell_type": "code",
   "execution_count": 149,
   "metadata": {
    "dotnet_interactive": {
     "language": "fsharp"
    },
    "polyglot_notebook": {
     "kernelName": "fsharp"
    },
    "vscode": {
     "languageId": "polyglot-notebook"
    }
   },
   "outputs": [
    {
     "data": {
      "text/plain": [
       "Sample answer"
      ]
     },
     "metadata": {},
     "output_type": "display_data"
    },
    {
     "data": {
      "text/html": [
       "<div class=\"dni-plaintext\"><pre>13</pre></div><style>\r\n",
       ".dni-code-hint {\r\n",
       "    font-style: italic;\r\n",
       "    overflow: hidden;\r\n",
       "    white-space: nowrap;\r\n",
       "}\r\n",
       ".dni-treeview {\r\n",
       "    white-space: nowrap;\r\n",
       "}\r\n",
       ".dni-treeview td {\r\n",
       "    vertical-align: top;\r\n",
       "    text-align: start;\r\n",
       "}\r\n",
       "details.dni-treeview {\r\n",
       "    padding-left: 1em;\r\n",
       "}\r\n",
       "table td {\r\n",
       "    text-align: start;\r\n",
       "}\r\n",
       "table tr { \r\n",
       "    vertical-align: top; \r\n",
       "    margin: 0em 0px;\r\n",
       "}\r\n",
       "table tr td pre \r\n",
       "{ \r\n",
       "    vertical-align: top !important; \r\n",
       "    margin: 0em 0px !important;\r\n",
       "} \r\n",
       "table th {\r\n",
       "    text-align: start;\r\n",
       "}\r\n",
       "</style>"
      ]
     },
     "metadata": {},
     "output_type": "display_data"
    }
   ],
   "source": [
    "display \"Sample answer\"\n",
    "\n",
    "loadFile sample\n",
    "|> Array.map parseScratchCard\n",
    "|> Array.map (fun (_, w, n) -> Set.intersect (set w) (set n))\n",
    "|> Array.map Set.count\n",
    "|> Array.map (fun c -> pown 2 (c - 1))\n",
    "|> Array.sum\n",
    "\n"
   ]
  },
  {
   "cell_type": "code",
   "execution_count": 150,
   "metadata": {
    "dotnet_interactive": {
     "language": "fsharp"
    },
    "polyglot_notebook": {
     "kernelName": "fsharp"
    },
    "vscode": {
     "languageId": "polyglot-notebook"
    }
   },
   "outputs": [
    {
     "data": {
      "text/plain": [
       "Real answer"
      ]
     },
     "metadata": {},
     "output_type": "display_data"
    },
    {
     "data": {
      "text/html": [
       "<div class=\"dni-plaintext\"><pre>18619</pre></div><style>\r\n",
       ".dni-code-hint {\r\n",
       "    font-style: italic;\r\n",
       "    overflow: hidden;\r\n",
       "    white-space: nowrap;\r\n",
       "}\r\n",
       ".dni-treeview {\r\n",
       "    white-space: nowrap;\r\n",
       "}\r\n",
       ".dni-treeview td {\r\n",
       "    vertical-align: top;\r\n",
       "    text-align: start;\r\n",
       "}\r\n",
       "details.dni-treeview {\r\n",
       "    padding-left: 1em;\r\n",
       "}\r\n",
       "table td {\r\n",
       "    text-align: start;\r\n",
       "}\r\n",
       "table tr { \r\n",
       "    vertical-align: top; \r\n",
       "    margin: 0em 0px;\r\n",
       "}\r\n",
       "table tr td pre \r\n",
       "{ \r\n",
       "    vertical-align: top !important; \r\n",
       "    margin: 0em 0px !important;\r\n",
       "} \r\n",
       "table th {\r\n",
       "    text-align: start;\r\n",
       "}\r\n",
       "</style>"
      ]
     },
     "metadata": {},
     "output_type": "display_data"
    }
   ],
   "source": [
    "display \"Real answer\"\n",
    "\n",
    "loadFile data\n",
    "|> Array.map parseScratchCard\n",
    "|> Array.map (fun (_, w, n) -> Set.intersect (set w) (set n))\n",
    "|> Array.map Set.count\n",
    "|> Array.map (fun c -> pown 2 (c - 1))\n",
    "|> Array.sum\n"
   ]
  },
  {
   "cell_type": "code",
   "execution_count": 151,
   "metadata": {
    "dotnet_interactive": {
     "language": "fsharp"
    },
    "polyglot_notebook": {
     "kernelName": "fsharp"
    },
    "vscode": {
     "languageId": "polyglot-notebook"
    }
   },
   "outputs": [
    {
     "data": {
      "text/html": [
       "<div class=\"dni-plaintext\"><pre>33554432</pre></div><style>\r\n",
       ".dni-code-hint {\r\n",
       "    font-style: italic;\r\n",
       "    overflow: hidden;\r\n",
       "    white-space: nowrap;\r\n",
       "}\r\n",
       ".dni-treeview {\r\n",
       "    white-space: nowrap;\r\n",
       "}\r\n",
       ".dni-treeview td {\r\n",
       "    vertical-align: top;\r\n",
       "    text-align: start;\r\n",
       "}\r\n",
       "details.dni-treeview {\r\n",
       "    padding-left: 1em;\r\n",
       "}\r\n",
       "table td {\r\n",
       "    text-align: start;\r\n",
       "}\r\n",
       "table tr { \r\n",
       "    vertical-align: top; \r\n",
       "    margin: 0em 0px;\r\n",
       "}\r\n",
       "table tr td pre \r\n",
       "{ \r\n",
       "    vertical-align: top !important; \r\n",
       "    margin: 0em 0px !important;\r\n",
       "} \r\n",
       "table th {\r\n",
       "    text-align: start;\r\n",
       "}\r\n",
       "</style>"
      ]
     },
     "metadata": {},
     "output_type": "display_data"
    }
   ],
   "source": [
    "let matchCounts = \n",
    "    loadFile sample\n",
    "    |> Array.map parseScratchCard\n",
    "    |> Array.map (fun (_, w, n) -> Set.intersect (set w) (set n))\n",
    "    |> Array.map Set.count\n"
   ]
  }
 ],
 "metadata": {
  "language_info": {
   "name": "csharp"
  }
 },
 "nbformat": 4,
 "nbformat_minor": 2
}
